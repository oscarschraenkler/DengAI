{
 "cells": [
  {
   "cell_type": "code",
   "execution_count": 1,
   "id": "fc58ac7c",
   "metadata": {},
   "outputs": [],
   "source": [
    "# IMPORTS \n",
    "# Data Analyis, Visualization Imports\n",
    "import numpy as np\n",
    "import pandas as pd\n",
    "import random\n",
    "from IPython.display import display\n",
    "import seaborn as sns\n",
    "import matplotlib.pyplot as plt\n",
    "%matplotlib inline\n",
    "\n",
    "# Sklearn\n",
    "from sklearn.cluster import KMeans\n",
    "from sklearn.compose import ColumnTransformer\n",
    "from sklearn.linear_model import LinearRegression\n",
    "from sklearn.metrics import mean_absolute_error\n",
    "from sklearn.model_selection import train_test_split\n",
    "from sklearn.model_selection import cross_val_score\n",
    "from sklearn.model_selection import GridSearchCV\n",
    "from sklearn.model_selection import RandomizedSearchCV\n",
    "from sklearn.pipeline import Pipeline\n",
    "from sklearn.preprocessing import OneHotEncoder\n",
    "from sklearn.preprocessing import StandardScaler\n",
    "from sklearn.svm import LinearSVR\n",
    "from sklearn.svm import SVR\n",
    "from sklearn.tree import DecisionTreeRegressor\n",
    "from sklearn.ensemble import RandomForestRegressor"
   ]
  },
  {
   "cell_type": "code",
   "execution_count": 2,
   "id": "e2f11003",
   "metadata": {},
   "outputs": [],
   "source": [
    "# UNIVERSAL PARAMETERS\n",
    "TEST_SIZE = 0.25\n",
    "CROSS_VAL_FOLDS = 5\n",
    "RANDOM_STATE = 42\n",
    "\n",
    "# FEATURE IMPORTANCE (will drop features, and re-run analysis on dataset)\n",
    "USE_FEATURE_IMPORTANCE = False\n",
    "\n",
    "# Uses previous case's label as a feature (which means it cant generate competition output)\n",
    "# So leave this False unless you really want to use it.\n",
    "USE_PREV_CASES = False\n",
    "\n",
    "# COMPETITION RESULT OUTPUT \n",
    "COMPETITION_RESULTS_OUTPUT_NAME = \"competition-results\"\n",
    "EXPORT_RESULT_TO_GSHEET = False"
   ]
  },
  {
   "cell_type": "code",
   "execution_count": 3,
   "id": "4307f884",
   "metadata": {},
   "outputs": [],
   "source": [
    "# FEATURE KEYS\n",
    "ORIG_FEATURE_KEYS = ['city', 'year', 'weekofyear', 'week_start_date', 'ndvi_ne',\n",
    "                     'ndvi_nw','ndvi_se', 'ndvi_sw', 'precipitation_amt_mm',\n",
    "                     'reanalysis_air_temp_k','reanalysis_avg_temp_k',\n",
    "                     'reanalysis_dew_point_temp_k','reanalysis_max_air_temp_k',\n",
    "                     'reanalysis_min_air_temp_k',\n",
    "                     'reanalysis_precip_amt_kg_per_m2',\n",
    "                     'reanalysis_relative_humidity_percent',\n",
    "                     'reanalysis_sat_precip_amt_mm',\n",
    "                     'reanalysis_specific_humidity_g_per_kg',\n",
    "                     'reanalysis_tdtr_k','station_avg_temp_c',\n",
    "                     'station_diur_temp_rng_c',\n",
    "                     'station_max_temp_c','station_min_temp_c',\n",
    "                     'station_precip_mm']\n",
    "NUMERIC_FEATURE_KEYS = ['year', 'weekofyear', 'ndvi_ne', 'ndvi_nw',\n",
    "                        'ndvi_se', 'ndvi_sw', 'precipitation_amt_mm',\n",
    "                        'reanalysis_air_temp_k', 'reanalysis_avg_temp_k',\n",
    "                        'reanalysis_dew_point_temp_k',\n",
    "                        'reanalysis_max_air_temp_k',\n",
    "                        'reanalysis_min_air_temp_k',\n",
    "                        'reanalysis_precip_amt_kg_per_m2',\n",
    "                        'reanalysis_relative_humidity_percent',\n",
    "                        'reanalysis_sat_precip_amt_mm',\n",
    "                        'reanalysis_specific_humidity_g_per_kg',\n",
    "                        'reanalysis_tdtr_k', 'station_avg_temp_c',\n",
    "                        'station_diur_temp_rng_c', 'station_max_temp_c',\n",
    "                        'station_min_temp_c', 'station_precip_mm']\n",
    "TIME_FEATURE_KEYS = ['week_start_date']\n",
    "DROP_FEATURE_KEYS = ['precipitation_amt_mm', 'reanalysis_air_temp_k',\n",
    "       'station_avg_temp_c', 'station_diur_temp_rng_c', 'station_max_temp_c',\n",
    "       'station_min_temp_c', 'station_precip_mm']\n",
    "CATEGORY_KEYS = ['city']\n",
    "\n",
    "# added new feature, also week of year is now a category\n",
    "PIPELINE_CATEGORY_KEYS = ['city', 'weekofyear', 'yearofdecade']  # if treating week and year as categories\n",
    "\n",
    "PIPELINE_CATEGORY_KEYS_RF = ['city'] \n",
    "PIPELINE_NUMERIC_KEYS = ['reanalysis_avg_temp_k',\n",
    "                        'reanalysis_dew_point_temp_k',\n",
    "                        'reanalysis_max_air_temp_k',\n",
    "                        'reanalysis_min_air_temp_k',\n",
    "                        'reanalysis_precip_amt_kg_per_m2',\n",
    "                        'reanalysis_relative_humidity_percent',\n",
    "                        'reanalysis_sat_precip_amt_mm',\n",
    "                        'reanalysis_specific_humidity_g_per_kg',\n",
    "                        'reanalysis_tdtr_k']\n",
    "PIPELINE_NUMERIC_KEYS_RF = []\n",
    "\n",
    "# ndvi_xxx are already scaled to [-1.0,1.0], so excluding from pipeline\n",
    "PIPELINE_PASSTHRU_KEYS = ['ndvi_ne', 'ndvi_nw','ndvi_se', 'ndvi_sw']\n",
    "\n",
    "# if using RF, none of the numerical values need scaling, so passthru.\n",
    "PIPELINE_PASSTHRU_KEYS_RF = ['reanalysis_avg_temp_k',\n",
    "                        'reanalysis_dew_point_temp_k',\n",
    "                        'reanalysis_max_air_temp_k',\n",
    "                        'reanalysis_min_air_temp_k',\n",
    "                        'reanalysis_precip_amt_kg_per_m2',\n",
    "                        'reanalysis_relative_humidity_percent',\n",
    "                        'reanalysis_sat_precip_amt_mm',\n",
    "                        'reanalysis_specific_humidity_g_per_kg',\n",
    "                        'reanalysis_tdtr_k', 'cos_weekofyear', 'cos_yearofdecade','ndvi_ne', 'ndvi_nw','ndvi_se', 'ndvi_sw']\n",
    "PIPELINE_DROP_KEYS = ['year','week_start_date',  'weekofyear', 'yearofdecade']  #FOR REFERENCE ONLY, PIPELINE IMPLICITLY DROPS THESE\n",
    "\n",
    "# LABEL KEYS\n",
    "ORIG_LABEL_KEYS = ['city', 'year', 'weekofyear', 'total_cases'] \n",
    "NUMERIC_LABEL_KEYS = ['year','weekofyear','total_cases']\n",
    "DROP_LABEL_KEYS = ['city', 'year','weekofyear']"
   ]
  },
  {
   "cell_type": "code",
   "execution_count": 4,
   "id": "01636f85",
   "metadata": {},
   "outputs": [],
   "source": [
    "def clean_data(input_df, drop_keys=[], numeric_keys=[], cat_keys=[], time_keys=[]):\n",
    "    new_df = input_df.copy()\n",
    "  \n",
    "    # Drop keys\n",
    "    drop_key_list = intersection(new_df.keys(), drop_keys)\n",
    "    new_df = new_df.drop(columns=drop_key_list)\n",
    "\n",
    "    curr_key_list = new_df.keys()\n",
    "\n",
    "    # Convert to numeric and time\n",
    "    numeric_key_list = intersection(curr_key_list, numeric_keys)\n",
    "    new_df[numeric_key_list] = new_df[numeric_key_list].apply(pd.to_numeric)\n",
    "\n",
    "    time_key_list = intersection(curr_key_list, time_keys)\n",
    "    new_df[time_key_list] = new_df[time_key_list].apply(pd.to_datetime)\n",
    "  \n",
    "    # Insert category processing --- placeholder, no processing performed\n",
    "    cat_key_list = intersection(curr_key_list, cat_keys)\n",
    "  \n",
    "    return new_df\n",
    "\n",
    "def intersection(lst1, lst2): \n",
    "    return list(set(lst1) & set(lst2)) \n",
    "\n",
    "def clean_training_data(input_df, drop_keys=[], numeric_keys=[], cat_keys=[], time_keys=[]):\n",
    "    # First generically clean by dropping unneeded keys, converting numeric, time values etc\n",
    "    raw_X = clean_data(input_df, drop_keys=drop_keys, numeric_keys=numeric_keys, cat_keys=cat_keys, time_keys=time_keys)\n",
    "\n",
    "    # Separate out sj and iq first, then perform imputing, so that it doesnt accidentally use the other city's data for linear interpolation\n",
    "    X_sj = clean_data(raw_X.loc[raw_X['city'] == 'sj'])\n",
    "    X_sj = impute_empty_cells(X_sj) \n",
    "\n",
    "    X_iq = clean_data(raw_X.loc[raw_X['city'] == 'iq'])\n",
    "    X_iq = impute_empty_cells(X_iq) \n",
    "\n",
    "    # final X to be used for further analysis\n",
    "    basic_X = X_sj.append(X_iq)\n",
    "    return basic_X\n"
   ]
  },
  {
   "cell_type": "code",
   "execution_count": 5,
   "id": "5240f9e2",
   "metadata": {},
   "outputs": [],
   "source": [
    "def impute_empty_cells(input_df):\n",
    "    out_df = input_df.copy()\n",
    "    for column in input_df:\n",
    "        # indices in the column which hard zeroes or NaN\n",
    "        null_or_zero_indices = return_empty_cells_in_1d_array(input_df[column], missing_vals=[0])\n",
    "    \n",
    "        for index in null_or_zero_indices:\n",
    "            min_index = input_df[column].index.values[0]\n",
    "            max_index = input_df[column].index.values[len(input_df[column])-1]\n",
    "            imputing_indices = return_indices_for_interpolation(index, min_index, max_index, null_or_zero_indices)\n",
    "      \n",
    "            imputed_value  = simple_linear_interpolation(input_df[column], index, imputing_indices)\n",
    "      \n",
    "            out_df.at[index,column] = imputed_value\n",
    "      \n",
    "    return out_df\n",
    "\n",
    "\n",
    "def simple_linear_interpolation(input_df, index, imputing_indices):\n",
    "    model = LinearRegression()\n",
    "  \n",
    "    X = np.asarray(imputing_indices).reshape(len(imputing_indices),1)\n",
    "    y = input_df[imputing_indices].to_numpy().reshape(len(imputing_indices),1)\n",
    "\n",
    "    model.fit(X, y)\n",
    "  \n",
    "    x_new = np.asarray(int(index)).reshape(1,1)\n",
    "    y_new = model.predict(x_new)\n",
    "\n",
    "    return y_new[0][0]\n",
    "\n",
    "def return_empty_cells_in_1d_array(input_df, missing_vals=[]):\n",
    "    column_array = input_df\n",
    "    missing_val_bool = column_array.isna()\n",
    "    for val in missing_vals:\n",
    "        missing_val_bool = missing_val_bool | (column_array == val)\n",
    "  \n",
    "    null_or_zero_indices = column_array[missing_val_bool].index.tolist() \n",
    "    return null_or_zero_indices\n",
    "\n",
    "def return_indices_for_interpolation(index, min_index, max_index, null_or_zero_indices, values_to_interpolate=2):\n",
    "    index_list = []\n",
    "    values_needed_left = 1\n",
    "    values_needed_right = 1\n",
    "    curr_index = index\n",
    "  \n",
    "    while (values_needed_left<= values_to_interpolate) and (curr_index >= min_index):\n",
    "        if curr_index not in null_or_zero_indices:\n",
    "            index_list.append(curr_index)\n",
    "            values_needed_left +=1\n",
    "        curr_index-=1\n",
    "    curr_index = index\n",
    "    while (values_needed_right<= values_to_interpolate) and (curr_index <= max_index):\n",
    "        if curr_index not in null_or_zero_indices:\n",
    "            index_list.append(curr_index)\n",
    "            values_needed_right +=1\n",
    "        curr_index+=1\n",
    "    return index_list"
   ]
  },
  {
   "cell_type": "code",
   "execution_count": 6,
   "id": "b7f6541d",
   "metadata": {},
   "outputs": [],
   "source": [
    "def output_yearofdecade(input_df):\n",
    "    true_year = (input_df - pd.to_timedelta(input_df.dt.weekday, unit='D')).dt.year\n",
    "    yearofdecade = true_year.mod(10).astype(int)\n",
    "    return yearofdecade"
   ]
  },
  {
   "cell_type": "code",
   "execution_count": 7,
   "id": "17010bd8",
   "metadata": {},
   "outputs": [],
   "source": [
    "def get_column_names_from_ColumnTransformer(column_transformer):\n",
    "    col_name = []\n",
    "    for transformer_in_columns in column_transformer.transformers_[:-1]:#the last transformer is ColumnTransformer's 'remainder' which we ignore, since those are dropped.\n",
    "        raw_col_name = transformer_in_columns[2]\n",
    "        if isinstance(transformer_in_columns[1],Pipeline): \n",
    "            transformer = transformer_in_columns[1].steps[-1][1]\n",
    "        else:\n",
    "            transformer = transformer_in_columns[1]\n",
    "        try:\n",
    "            names = transformer.get_feature_names()\n",
    "        except AttributeError: # if no 'get_feature_names' function, use raw column name\n",
    "            names = raw_col_name\n",
    "        if isinstance(names,np.ndarray): \n",
    "            col_name += names.tolist()\n",
    "        elif isinstance(names,list):\n",
    "            col_name += names\n",
    "        elif isinstance(names,str):\n",
    "            col_name.append(names)\n",
    "    return col_name"
   ]
  },
  {
   "cell_type": "code",
   "execution_count": 8,
   "id": "75cefa01",
   "metadata": {},
   "outputs": [],
   "source": [
    "def show_feature_importance(X,y,params_dict=None,most_important_n=-1, print_all=False):\n",
    "    model = RandomForestRegressor()\n",
    "    if params_dict is not None:\n",
    "        model.set_params(**params_dict)\n",
    "    model.fit(X,y)\n",
    "    importances = list(zip(list(X), model.feature_importances_))\n",
    "    sorted_importances = sorted(importances, key = lambda x: x[1]) \n",
    "    sorted_importances.reverse()\n",
    "    sorted_importances_df = pd.DataFrame(sorted_importances, columns=[\"Feature\",\"Importance\"])\n",
    "    sorted_importances_df.index+=1\n",
    "    sorted_importances_df[\"Cumulative Importance\"] = sorted_importances_df[\"Importance\"].cumsum()\n",
    "    if print_all or most_important_n > sorted_importances_df.shape[0]:\n",
    "        with pd.option_context(\"display.max_rows\", 1000):\n",
    "            display(sorted_importances_df)\n",
    "    else:\n",
    "        with pd.option_context(\"display.max_rows\", 1000):\n",
    "            display(sorted_importances_df.head(most_important_n))\n",
    "\n",
    "    feature_list, _ = zip(*sorted_importances)\n",
    "    if most_important_n == -1 or most_important_n > len(feature_list):\n",
    "        return list(feature_list)\n",
    "    else:\n",
    "        return list(feature_list[:most_important_n])"
   ]
  },
  {
   "cell_type": "code",
   "execution_count": 9,
   "id": "548f330e",
   "metadata": {},
   "outputs": [],
   "source": [
    "def predictions_and_mae(estimator, X, y_true):\n",
    "    y_pred = estimator.predict(X)\n",
    "    return y_pred, mean_absolute_error(y_true, y_pred)"
   ]
  },
  {
   "cell_type": "code",
   "execution_count": 10,
   "id": "0fc9a28e",
   "metadata": {},
   "outputs": [],
   "source": [
    "features_train_df = pd.read_csv(\"../dengue_fever/data/dengue_features_train.csv\")\n",
    "labels_train_df = pd.read_csv(\"../dengue_fever/data/dengue_labels_train.csv\")"
   ]
  },
  {
   "cell_type": "code",
   "execution_count": 11,
   "id": "0248d984",
   "metadata": {},
   "outputs": [],
   "source": [
    "labels_competition_df = pd.read_csv('../dengue_fever/data/submission_format.csv')\n",
    "features_competition_df = pd.read_csv('../dengue_fever/data/dengue_features_test.csv')"
   ]
  },
  {
   "cell_type": "code",
   "execution_count": 12,
   "id": "f5465e61",
   "metadata": {},
   "outputs": [
    {
     "name": "stderr",
     "output_type": "stream",
     "text": [
      "/var/folders/fj/g8m8pm2j58g6_6gdtyfpn1640000gn/T/ipykernel_33104/731150205.py:37: FutureWarning: The frame.append method is deprecated and will be removed from pandas in a future version. Use pandas.concat instead.\n",
      "  basic_X = X_sj.append(X_iq)\n",
      "/var/folders/fj/g8m8pm2j58g6_6gdtyfpn1640000gn/T/ipykernel_33104/731150205.py:37: FutureWarning: The frame.append method is deprecated and will be removed from pandas in a future version. Use pandas.concat instead.\n",
      "  basic_X = X_sj.append(X_iq)\n"
     ]
    }
   ],
   "source": [
    "basic_X = clean_training_data(features_train_df, drop_keys=DROP_FEATURE_KEYS, numeric_keys=NUMERIC_FEATURE_KEYS, time_keys=TIME_FEATURE_KEYS)\n",
    "basic_y = clean_data(labels_train_df, numeric_keys=NUMERIC_LABEL_KEYS)\n",
    "\n",
    "competition_basic_X = clean_training_data(features_competition_df, drop_keys=DROP_FEATURE_KEYS, numeric_keys=NUMERIC_FEATURE_KEYS, time_keys=TIME_FEATURE_KEYS)\n",
    "competition_basic_y = clean_data(labels_competition_df, numeric_keys=NUMERIC_LABEL_KEYS)"
   ]
  },
  {
   "cell_type": "code",
   "execution_count": 13,
   "id": "37045676",
   "metadata": {},
   "outputs": [],
   "source": [
    "visual_df_sj = basic_y[basic_y['city'] == 'sj']\n",
    "visual_df_iq = basic_y[basic_y['city'] == 'iq']"
   ]
  },
  {
   "cell_type": "code",
   "execution_count": 14,
   "id": "801bc6f6",
   "metadata": {},
   "outputs": [],
   "source": [
    "X = basic_X.copy()\n",
    "y = basic_y  #.copy()  (no further steps occuring to y's)\n",
    "\n",
    "competition_X = competition_basic_X.copy()\n",
    "competition_y = competition_basic_y #.copy()  (no further steps occuring to y)"
   ]
  },
  {
   "cell_type": "code",
   "execution_count": 15,
   "id": "0ad7bbfd",
   "metadata": {},
   "outputs": [],
   "source": [
    "X['yearofdecade'] = output_yearofdecade(basic_X['week_start_date'])\n",
    "competition_X['yearofdecade'] = output_yearofdecade(basic_X['week_start_date'])"
   ]
  },
  {
   "cell_type": "code",
   "execution_count": 16,
   "id": "5f267a5f",
   "metadata": {},
   "outputs": [],
   "source": [
    "# Test, trying to handle the periodicity myself by using Cosines of the year and week\n",
    "\n",
    "max_year_of_decade = 9.0\n",
    "max_weekofyear = 53.0\n",
    "X['cos_yearofdecade'] = np.cos(2*np.pi*X['yearofdecade']/max_year_of_decade)\n",
    "competition_X['cos_yearofdecade'] = np.cos(2*np.pi*competition_X['yearofdecade']/max_year_of_decade)\n",
    "\n",
    "X['cos_weekofyear'] = np.cos(2*np.pi*X['weekofyear']/max_weekofyear)\n",
    "competition_X['cos_weekofyear'] = np.cos(2*np.pi*competition_X['weekofyear']/max_weekofyear)"
   ]
  },
  {
   "cell_type": "code",
   "execution_count": 17,
   "id": "21fdbcc5",
   "metadata": {},
   "outputs": [],
   "source": [
    "if USE_PREV_CASES:\n",
    "    X['previous_cases'] = y['total_cases']\n",
    "    X['previous_cases']= X['previous_cases'].shift(periods=1)\n",
    "    X.at[1,'previous_cases']=X['previous_cases'][2]"
   ]
  },
  {
   "cell_type": "code",
   "execution_count": 18,
   "id": "d444ec03",
   "metadata": {},
   "outputs": [
    {
     "name": "stderr",
     "output_type": "stream",
     "text": [
      "/Users/Nikki/.pyenv/versions/3.10.6/envs/dengue_fever/lib/python3.10/site-packages/sklearn/utils/deprecation.py:87: FutureWarning: Function get_feature_names is deprecated; get_feature_names is deprecated in 1.0 and will be removed in 1.2. Please use get_feature_names_out instead.\n",
      "  warnings.warn(msg, category=FutureWarning)\n"
     ]
    }
   ],
   "source": [
    "cat_attribs = PIPELINE_CATEGORY_KEYS_RF\n",
    "# num_attribs = PIPELINE_NUMERIC_KEYS  # if num_attribs need scaling\n",
    "num_attribs = PIPELINE_NUMERIC_KEYS_RF # this is actually empty, because RF Numerics dont need scaling.\n",
    "passthru_attribs = PIPELINE_PASSTHRU_KEYS_RF.copy()\n",
    "\n",
    "if USE_PREV_CASES:\n",
    "    passthru_attribs.append('previous_cases')\n",
    "drop_attribs = PIPELINE_DROP_KEYS  # for reference only, nothing is being done to ['year','week_start_date'] so it will be dropped\n",
    "\n",
    "full_pipeline = ColumnTransformer([\n",
    "                                   (\"cat\",OneHotEncoder(sparse=False, drop='first'), cat_attribs),\n",
    "                                   (\"num\", StandardScaler(), num_attribs),\n",
    "                                   (\"passthru\",'passthrough', passthru_attribs),\n",
    "                                   ],\n",
    "                                  remainder='drop'\n",
    "                                  )\n",
    "full_pipeline.fit(X)\n",
    "pipeline_cols = get_column_names_from_ColumnTransformer(full_pipeline)"
   ]
  },
  {
   "cell_type": "code",
   "execution_count": 19,
   "id": "7a5d99c5",
   "metadata": {},
   "outputs": [],
   "source": [
    "# ensures X_prep remains a dataframe \n",
    "X_prep = pd.DataFrame(full_pipeline.transform(X), columns=pipeline_cols)\n",
    "y_prep = y # no need to deep copy, no changes were made\n",
    "X_prep.index = np.arange(1, len(X_prep) + 1)\n",
    "\n",
    "\n",
    "if not USE_PREV_CASES:\n",
    "    competition_X_prep = pd.DataFrame(full_pipeline.transform(competition_X), columns=pipeline_cols)\n",
    "    competition_X_prep.index = np.arange(1, len(competition_X_prep) + 1)\n",
    "    competition_y_prep = competition_y #no need to deep copy, no changes were made"
   ]
  },
  {
   "cell_type": "code",
   "execution_count": 20,
   "id": "135071a6",
   "metadata": {},
   "outputs": [
    {
     "data": {
      "text/plain": [
       "((1456, 16), (1456, 4))"
      ]
     },
     "execution_count": 20,
     "metadata": {},
     "output_type": "execute_result"
    }
   ],
   "source": [
    "X_prep.shape, y_prep.shape\n"
   ]
  },
  {
   "cell_type": "code",
   "execution_count": 21,
   "id": "b160e354",
   "metadata": {},
   "outputs": [],
   "source": [
    "X_train, X_test,y_train, y_test = train_test_split(X_prep,y_prep['total_cases'],test_size=TEST_SIZE,random_state=RANDOM_STATE)"
   ]
  },
  {
   "cell_type": "code",
   "execution_count": 22,
   "id": "9b8ec9f9",
   "metadata": {},
   "outputs": [
    {
     "data": {
      "text/html": [
       "<div>\n",
       "<style scoped>\n",
       "    .dataframe tbody tr th:only-of-type {\n",
       "        vertical-align: middle;\n",
       "    }\n",
       "\n",
       "    .dataframe tbody tr th {\n",
       "        vertical-align: top;\n",
       "    }\n",
       "\n",
       "    .dataframe thead th {\n",
       "        text-align: right;\n",
       "    }\n",
       "</style>\n",
       "<table border=\"1\" class=\"dataframe\">\n",
       "  <thead>\n",
       "    <tr style=\"text-align: right;\">\n",
       "      <th></th>\n",
       "      <th>Feature</th>\n",
       "      <th>Importance</th>\n",
       "      <th>Cumulative Importance</th>\n",
       "    </tr>\n",
       "  </thead>\n",
       "  <tbody>\n",
       "    <tr>\n",
       "      <th>1</th>\n",
       "      <td>ndvi_sw</td>\n",
       "      <td>0.219270</td>\n",
       "      <td>0.219270</td>\n",
       "    </tr>\n",
       "    <tr>\n",
       "      <th>2</th>\n",
       "      <td>reanalysis_min_air_temp_k</td>\n",
       "      <td>0.133517</td>\n",
       "      <td>0.352787</td>\n",
       "    </tr>\n",
       "    <tr>\n",
       "      <th>3</th>\n",
       "      <td>ndvi_nw</td>\n",
       "      <td>0.119429</td>\n",
       "      <td>0.472215</td>\n",
       "    </tr>\n",
       "    <tr>\n",
       "      <th>4</th>\n",
       "      <td>cos_weekofyear</td>\n",
       "      <td>0.081604</td>\n",
       "      <td>0.553820</td>\n",
       "    </tr>\n",
       "    <tr>\n",
       "      <th>5</th>\n",
       "      <td>cos_yearofdecade</td>\n",
       "      <td>0.076800</td>\n",
       "      <td>0.630619</td>\n",
       "    </tr>\n",
       "    <tr>\n",
       "      <th>6</th>\n",
       "      <td>reanalysis_tdtr_k</td>\n",
       "      <td>0.048323</td>\n",
       "      <td>0.678942</td>\n",
       "    </tr>\n",
       "    <tr>\n",
       "      <th>7</th>\n",
       "      <td>reanalysis_dew_point_temp_k</td>\n",
       "      <td>0.044449</td>\n",
       "      <td>0.723391</td>\n",
       "    </tr>\n",
       "    <tr>\n",
       "      <th>8</th>\n",
       "      <td>reanalysis_sat_precip_amt_mm</td>\n",
       "      <td>0.044383</td>\n",
       "      <td>0.767774</td>\n",
       "    </tr>\n",
       "    <tr>\n",
       "      <th>9</th>\n",
       "      <td>reanalysis_precip_amt_kg_per_m2</td>\n",
       "      <td>0.040257</td>\n",
       "      <td>0.808031</td>\n",
       "    </tr>\n",
       "    <tr>\n",
       "      <th>10</th>\n",
       "      <td>reanalysis_specific_humidity_g_per_kg</td>\n",
       "      <td>0.039075</td>\n",
       "      <td>0.847106</td>\n",
       "    </tr>\n",
       "    <tr>\n",
       "      <th>11</th>\n",
       "      <td>reanalysis_relative_humidity_percent</td>\n",
       "      <td>0.037571</td>\n",
       "      <td>0.884677</td>\n",
       "    </tr>\n",
       "    <tr>\n",
       "      <th>12</th>\n",
       "      <td>reanalysis_avg_temp_k</td>\n",
       "      <td>0.032551</td>\n",
       "      <td>0.917228</td>\n",
       "    </tr>\n",
       "    <tr>\n",
       "      <th>13</th>\n",
       "      <td>ndvi_ne</td>\n",
       "      <td>0.028461</td>\n",
       "      <td>0.945690</td>\n",
       "    </tr>\n",
       "    <tr>\n",
       "      <th>14</th>\n",
       "      <td>ndvi_se</td>\n",
       "      <td>0.027829</td>\n",
       "      <td>0.973519</td>\n",
       "    </tr>\n",
       "    <tr>\n",
       "      <th>15</th>\n",
       "      <td>reanalysis_max_air_temp_k</td>\n",
       "      <td>0.026025</td>\n",
       "      <td>0.999544</td>\n",
       "    </tr>\n",
       "  </tbody>\n",
       "</table>\n",
       "</div>"
      ],
      "text/plain": [
       "                                  Feature  Importance  Cumulative Importance\n",
       "1                                 ndvi_sw    0.219270               0.219270\n",
       "2               reanalysis_min_air_temp_k    0.133517               0.352787\n",
       "3                                 ndvi_nw    0.119429               0.472215\n",
       "4                          cos_weekofyear    0.081604               0.553820\n",
       "5                        cos_yearofdecade    0.076800               0.630619\n",
       "6                       reanalysis_tdtr_k    0.048323               0.678942\n",
       "7             reanalysis_dew_point_temp_k    0.044449               0.723391\n",
       "8            reanalysis_sat_precip_amt_mm    0.044383               0.767774\n",
       "9         reanalysis_precip_amt_kg_per_m2    0.040257               0.808031\n",
       "10  reanalysis_specific_humidity_g_per_kg    0.039075               0.847106\n",
       "11   reanalysis_relative_humidity_percent    0.037571               0.884677\n",
       "12                  reanalysis_avg_temp_k    0.032551               0.917228\n",
       "13                                ndvi_ne    0.028461               0.945690\n",
       "14                                ndvi_se    0.027829               0.973519\n",
       "15              reanalysis_max_air_temp_k    0.026025               0.999544"
      ]
     },
     "metadata": {},
     "output_type": "display_data"
    },
    {
     "data": {
      "text/plain": [
       "['ndvi_sw',\n",
       " 'reanalysis_min_air_temp_k',\n",
       " 'ndvi_nw',\n",
       " 'cos_weekofyear',\n",
       " 'cos_yearofdecade',\n",
       " 'reanalysis_tdtr_k',\n",
       " 'reanalysis_dew_point_temp_k',\n",
       " 'reanalysis_sat_precip_amt_mm',\n",
       " 'reanalysis_precip_amt_kg_per_m2',\n",
       " 'reanalysis_specific_humidity_g_per_kg',\n",
       " 'reanalysis_relative_humidity_percent',\n",
       " 'reanalysis_avg_temp_k',\n",
       " 'ndvi_ne',\n",
       " 'ndvi_se',\n",
       " 'reanalysis_max_air_temp_k']"
      ]
     },
     "execution_count": 22,
     "metadata": {},
     "output_type": "execute_result"
    }
   ],
   "source": [
    "prelim_important_feature_list = show_feature_importance(X_train,y_train, most_important_n=15, print_all=False, params_dict={'n_estimators':100})\n",
    "prelim_important_feature_list\n"
   ]
  },
  {
   "cell_type": "code",
   "execution_count": 23,
   "id": "88225e3c",
   "metadata": {},
   "outputs": [],
   "source": [
    "tree_reg = DecisionTreeRegressor(max_depth=4)\n",
    "\n",
    "forest_reg = RandomForestRegressor(random_state=RANDOM_STATE)\n",
    "forest_reg.fit(X_train, y_train)\n",
    "\n",
    "lin_reg = LinearRegression()\n",
    "\n",
    "lin_svm_reg = LinearSVR()\n",
    "svr_reg = SVR()"
   ]
  },
  {
   "cell_type": "code",
   "execution_count": 24,
   "id": "c7c8f9e8",
   "metadata": {},
   "outputs": [
    {
     "name": "stdout",
     "output_type": "stream",
     "text": [
      "Decision Tree score: [-15.07575587 -20.99447252 -20.01862523 -15.43054614 -14.98199479]\n",
      "Random Forest score:  [-16.56557078 -18.22415525 -16.71844037 -13.63376147 -13.61619266]\n",
      "Linear Reg score:  [-20.71414154 -20.40224407 -20.13015454 -19.0308359  -17.41662154]\n"
     ]
    },
    {
     "name": "stderr",
     "output_type": "stream",
     "text": [
      "/Users/Nikki/.pyenv/versions/3.10.6/envs/dengue_fever/lib/python3.10/site-packages/sklearn/svm/_base.py:1225: ConvergenceWarning: Liblinear failed to converge, increase the number of iterations.\n",
      "  warnings.warn(\n",
      "/Users/Nikki/.pyenv/versions/3.10.6/envs/dengue_fever/lib/python3.10/site-packages/sklearn/svm/_base.py:1225: ConvergenceWarning: Liblinear failed to converge, increase the number of iterations.\n",
      "  warnings.warn(\n",
      "/Users/Nikki/.pyenv/versions/3.10.6/envs/dengue_fever/lib/python3.10/site-packages/sklearn/svm/_base.py:1225: ConvergenceWarning: Liblinear failed to converge, increase the number of iterations.\n",
      "  warnings.warn(\n",
      "/Users/Nikki/.pyenv/versions/3.10.6/envs/dengue_fever/lib/python3.10/site-packages/sklearn/svm/_base.py:1225: ConvergenceWarning: Liblinear failed to converge, increase the number of iterations.\n",
      "  warnings.warn(\n",
      "/Users/Nikki/.pyenv/versions/3.10.6/envs/dengue_fever/lib/python3.10/site-packages/sklearn/svm/_base.py:1225: ConvergenceWarning: Liblinear failed to converge, increase the number of iterations.\n",
      "  warnings.warn(\n"
     ]
    },
    {
     "name": "stdout",
     "output_type": "stream",
     "text": [
      "Linear SVM score:  [-24.15875914 -21.43330537 -19.42670744 -16.33706024 -29.96169854]\n",
      "SVR score:  [-18.69372582 -20.91744305 -21.30452375 -16.13707533 -16.37343949]\n"
     ]
    }
   ],
   "source": [
    "# Cross validate\n",
    "tree_reg_scores = cross_val_score(tree_reg, X_train, y_train, cv=CROSS_VAL_FOLDS, scoring='neg_mean_absolute_error')\n",
    "print(\"Decision Tree score:\", tree_reg_scores)\n",
    "\n",
    "forest_reg_scores = cross_val_score(forest_reg, X_train, y_train, cv=CROSS_VAL_FOLDS, scoring='neg_mean_absolute_error')\n",
    "print(\"Random Forest score: \", forest_reg_scores)\n",
    "\n",
    "lin_reg_scores = cross_val_score(lin_reg, X_train, y_train, cv=CROSS_VAL_FOLDS, scoring='neg_mean_absolute_error')\n",
    "print(\"Linear Reg score: \", lin_reg_scores)\n",
    "\n",
    "lin_svm_reg_scores = cross_val_score(lin_svm_reg, X_train, y_train, cv=CROSS_VAL_FOLDS, scoring='neg_mean_absolute_error')\n",
    "print(\"Linear SVM score: \", lin_svm_reg_scores)\n",
    "\n",
    "svr_reg_scores = cross_val_score(svr_reg, X_train, y_train, cv=CROSS_VAL_FOLDS, scoring='neg_mean_absolute_error')\n",
    "print(\"SVR score: \", svr_reg_scores)"
   ]
  },
  {
   "cell_type": "code",
   "execution_count": 25,
   "id": "7b964bd2",
   "metadata": {},
   "outputs": [
    {
     "name": "stdout",
     "output_type": "stream",
     "text": [
      "5.587591575091575\n"
     ]
    }
   ],
   "source": [
    "y_pred = forest_reg.predict(X_train)\n",
    "forest_reg_mae = mean_absolute_error(y_train, y_pred)\n",
    "\n",
    "y_pred, y_train\n",
    "print(forest_reg_mae)"
   ]
  },
  {
   "cell_type": "code",
   "execution_count": 26,
   "id": "540b2f8a",
   "metadata": {},
   "outputs": [
    {
     "name": "stdout",
     "output_type": "stream",
     "text": [
      "SVR score:  [-18.69372582 -20.91744305 -21.30452375 -16.13707533 -16.37343949]\n"
     ]
    }
   ],
   "source": [
    "svr_reg = SVR()\n",
    "svr_reg_scores = cross_val_score(svr_reg, X_train, y_train, cv=CROSS_VAL_FOLDS, scoring='neg_mean_absolute_error')\n",
    "print(\"SVR score: \", svr_reg_scores)"
   ]
  },
  {
   "cell_type": "code",
   "execution_count": 27,
   "id": "9706b30f",
   "metadata": {},
   "outputs": [
    {
     "name": "stdout",
     "output_type": "stream",
     "text": [
      "The SVM's MAE on training data is: 18.6022820081744\n"
     ]
    }
   ],
   "source": [
    "svr_reg.fit(X_train, y_train)\n",
    "print(\"The SVM's MAE on training data is:\",  predictions_and_mae(svr_reg, X_train, y_train)[1])"
   ]
  },
  {
   "cell_type": "code",
   "execution_count": 28,
   "id": "6a21c4ec",
   "metadata": {},
   "outputs": [
    {
     "data": {
      "text/html": [
       "<style>#sk-container-id-1 {color: black;background-color: white;}#sk-container-id-1 pre{padding: 0;}#sk-container-id-1 div.sk-toggleable {background-color: white;}#sk-container-id-1 label.sk-toggleable__label {cursor: pointer;display: block;width: 100%;margin-bottom: 0;padding: 0.3em;box-sizing: border-box;text-align: center;}#sk-container-id-1 label.sk-toggleable__label-arrow:before {content: \"▸\";float: left;margin-right: 0.25em;color: #696969;}#sk-container-id-1 label.sk-toggleable__label-arrow:hover:before {color: black;}#sk-container-id-1 div.sk-estimator:hover label.sk-toggleable__label-arrow:before {color: black;}#sk-container-id-1 div.sk-toggleable__content {max-height: 0;max-width: 0;overflow: hidden;text-align: left;background-color: #f0f8ff;}#sk-container-id-1 div.sk-toggleable__content pre {margin: 0.2em;color: black;border-radius: 0.25em;background-color: #f0f8ff;}#sk-container-id-1 input.sk-toggleable__control:checked~div.sk-toggleable__content {max-height: 200px;max-width: 100%;overflow: auto;}#sk-container-id-1 input.sk-toggleable__control:checked~label.sk-toggleable__label-arrow:before {content: \"▾\";}#sk-container-id-1 div.sk-estimator input.sk-toggleable__control:checked~label.sk-toggleable__label {background-color: #d4ebff;}#sk-container-id-1 div.sk-label input.sk-toggleable__control:checked~label.sk-toggleable__label {background-color: #d4ebff;}#sk-container-id-1 input.sk-hidden--visually {border: 0;clip: rect(1px 1px 1px 1px);clip: rect(1px, 1px, 1px, 1px);height: 1px;margin: -1px;overflow: hidden;padding: 0;position: absolute;width: 1px;}#sk-container-id-1 div.sk-estimator {font-family: monospace;background-color: #f0f8ff;border: 1px dotted black;border-radius: 0.25em;box-sizing: border-box;margin-bottom: 0.5em;}#sk-container-id-1 div.sk-estimator:hover {background-color: #d4ebff;}#sk-container-id-1 div.sk-parallel-item::after {content: \"\";width: 100%;border-bottom: 1px solid gray;flex-grow: 1;}#sk-container-id-1 div.sk-label:hover label.sk-toggleable__label {background-color: #d4ebff;}#sk-container-id-1 div.sk-serial::before {content: \"\";position: absolute;border-left: 1px solid gray;box-sizing: border-box;top: 0;bottom: 0;left: 50%;z-index: 0;}#sk-container-id-1 div.sk-serial {display: flex;flex-direction: column;align-items: center;background-color: white;padding-right: 0.2em;padding-left: 0.2em;position: relative;}#sk-container-id-1 div.sk-item {position: relative;z-index: 1;}#sk-container-id-1 div.sk-parallel {display: flex;align-items: stretch;justify-content: center;background-color: white;position: relative;}#sk-container-id-1 div.sk-item::before, #sk-container-id-1 div.sk-parallel-item::before {content: \"\";position: absolute;border-left: 1px solid gray;box-sizing: border-box;top: 0;bottom: 0;left: 50%;z-index: -1;}#sk-container-id-1 div.sk-parallel-item {display: flex;flex-direction: column;z-index: 1;position: relative;background-color: white;}#sk-container-id-1 div.sk-parallel-item:first-child::after {align-self: flex-end;width: 50%;}#sk-container-id-1 div.sk-parallel-item:last-child::after {align-self: flex-start;width: 50%;}#sk-container-id-1 div.sk-parallel-item:only-child::after {width: 0;}#sk-container-id-1 div.sk-dashed-wrapped {border: 1px dashed gray;margin: 0 0.4em 0.5em 0.4em;box-sizing: border-box;padding-bottom: 0.4em;background-color: white;}#sk-container-id-1 div.sk-label label {font-family: monospace;font-weight: bold;display: inline-block;line-height: 1.2em;}#sk-container-id-1 div.sk-label-container {text-align: center;}#sk-container-id-1 div.sk-container {/* jupyter's `normalize.less` sets `[hidden] { display: none; }` but bootstrap.min.css set `[hidden] { display: none !important; }` so we also need the `!important` here to be able to override the default hidden behavior on the sphinx rendered scikit-learn.org. See: https://github.com/scikit-learn/scikit-learn/issues/21755 */display: inline-block !important;position: relative;}#sk-container-id-1 div.sk-text-repr-fallback {display: none;}</style><div id=\"sk-container-id-1\" class=\"sk-top-container\"><div class=\"sk-text-repr-fallback\"><pre>GridSearchCV(cv=5, estimator=SVR(),\n",
       "             param_grid={&#x27;degree&#x27;: [2, 3], &#x27;gamma&#x27;: [&#x27;scale&#x27;, &#x27;auto&#x27;],\n",
       "                         &#x27;kernel&#x27;: [&#x27;linear&#x27;, &#x27;rbf&#x27;, &#x27;sigmoid&#x27;],\n",
       "                         &#x27;tol&#x27;: [0.0001, 0.001, 0.01, 0.1]},\n",
       "             return_train_score=True, scoring=&#x27;neg_mean_absolute_error&#x27;)</pre><b>In a Jupyter environment, please rerun this cell to show the HTML representation or trust the notebook. <br />On GitHub, the HTML representation is unable to render, please try loading this page with nbviewer.org.</b></div><div class=\"sk-container\" hidden><div class=\"sk-item sk-dashed-wrapped\"><div class=\"sk-label-container\"><div class=\"sk-label sk-toggleable\"><input class=\"sk-toggleable__control sk-hidden--visually\" id=\"sk-estimator-id-1\" type=\"checkbox\" ><label for=\"sk-estimator-id-1\" class=\"sk-toggleable__label sk-toggleable__label-arrow\">GridSearchCV</label><div class=\"sk-toggleable__content\"><pre>GridSearchCV(cv=5, estimator=SVR(),\n",
       "             param_grid={&#x27;degree&#x27;: [2, 3], &#x27;gamma&#x27;: [&#x27;scale&#x27;, &#x27;auto&#x27;],\n",
       "                         &#x27;kernel&#x27;: [&#x27;linear&#x27;, &#x27;rbf&#x27;, &#x27;sigmoid&#x27;],\n",
       "                         &#x27;tol&#x27;: [0.0001, 0.001, 0.01, 0.1]},\n",
       "             return_train_score=True, scoring=&#x27;neg_mean_absolute_error&#x27;)</pre></div></div></div><div class=\"sk-parallel\"><div class=\"sk-parallel-item\"><div class=\"sk-item\"><div class=\"sk-label-container\"><div class=\"sk-label sk-toggleable\"><input class=\"sk-toggleable__control sk-hidden--visually\" id=\"sk-estimator-id-2\" type=\"checkbox\" ><label for=\"sk-estimator-id-2\" class=\"sk-toggleable__label sk-toggleable__label-arrow\">estimator: SVR</label><div class=\"sk-toggleable__content\"><pre>SVR()</pre></div></div></div><div class=\"sk-serial\"><div class=\"sk-item\"><div class=\"sk-estimator sk-toggleable\"><input class=\"sk-toggleable__control sk-hidden--visually\" id=\"sk-estimator-id-3\" type=\"checkbox\" ><label for=\"sk-estimator-id-3\" class=\"sk-toggleable__label sk-toggleable__label-arrow\">SVR</label><div class=\"sk-toggleable__content\"><pre>SVR()</pre></div></div></div></div></div></div></div></div></div></div>"
      ],
      "text/plain": [
       "GridSearchCV(cv=5, estimator=SVR(),\n",
       "             param_grid={'degree': [2, 3], 'gamma': ['scale', 'auto'],\n",
       "                         'kernel': ['linear', 'rbf', 'sigmoid'],\n",
       "                         'tol': [0.0001, 0.001, 0.01, 0.1]},\n",
       "             return_train_score=True, scoring='neg_mean_absolute_error')"
      ]
     },
     "execution_count": 28,
     "metadata": {},
     "output_type": "execute_result"
    }
   ],
   "source": [
    "sv_param_grid = {'kernel': ['linear','rbf','sigmoid'],\n",
    "                 'tol': [0.0001, 0.001, 0.01, 0.1],\n",
    "                 'gamma': ['scale','auto'],\n",
    "                 'degree': [2,3]\n",
    "                 }\n",
    "\n",
    "sv_grid_search = GridSearchCV(SVR(), sv_param_grid, cv=CROSS_VAL_FOLDS, scoring='neg_mean_absolute_error', return_train_score=True)\n",
    "sv_grid_search.fit(X_train, y_train)"
   ]
  },
  {
   "cell_type": "code",
   "execution_count": 29,
   "id": "b49b1fb1",
   "metadata": {},
   "outputs": [
    {
     "data": {
      "text/plain": [
       "{'degree': 2, 'gamma': 'scale', 'kernel': 'linear', 'tol': 0.1}"
      ]
     },
     "execution_count": 29,
     "metadata": {},
     "output_type": "execute_result"
    }
   ],
   "source": [
    "sv_grid_search.best_params_"
   ]
  },
  {
   "cell_type": "code",
   "execution_count": 30,
   "id": "abe23746",
   "metadata": {},
   "outputs": [
    {
     "data": {
      "text/html": [
       "<style>#sk-container-id-2 {color: black;background-color: white;}#sk-container-id-2 pre{padding: 0;}#sk-container-id-2 div.sk-toggleable {background-color: white;}#sk-container-id-2 label.sk-toggleable__label {cursor: pointer;display: block;width: 100%;margin-bottom: 0;padding: 0.3em;box-sizing: border-box;text-align: center;}#sk-container-id-2 label.sk-toggleable__label-arrow:before {content: \"▸\";float: left;margin-right: 0.25em;color: #696969;}#sk-container-id-2 label.sk-toggleable__label-arrow:hover:before {color: black;}#sk-container-id-2 div.sk-estimator:hover label.sk-toggleable__label-arrow:before {color: black;}#sk-container-id-2 div.sk-toggleable__content {max-height: 0;max-width: 0;overflow: hidden;text-align: left;background-color: #f0f8ff;}#sk-container-id-2 div.sk-toggleable__content pre {margin: 0.2em;color: black;border-radius: 0.25em;background-color: #f0f8ff;}#sk-container-id-2 input.sk-toggleable__control:checked~div.sk-toggleable__content {max-height: 200px;max-width: 100%;overflow: auto;}#sk-container-id-2 input.sk-toggleable__control:checked~label.sk-toggleable__label-arrow:before {content: \"▾\";}#sk-container-id-2 div.sk-estimator input.sk-toggleable__control:checked~label.sk-toggleable__label {background-color: #d4ebff;}#sk-container-id-2 div.sk-label input.sk-toggleable__control:checked~label.sk-toggleable__label {background-color: #d4ebff;}#sk-container-id-2 input.sk-hidden--visually {border: 0;clip: rect(1px 1px 1px 1px);clip: rect(1px, 1px, 1px, 1px);height: 1px;margin: -1px;overflow: hidden;padding: 0;position: absolute;width: 1px;}#sk-container-id-2 div.sk-estimator {font-family: monospace;background-color: #f0f8ff;border: 1px dotted black;border-radius: 0.25em;box-sizing: border-box;margin-bottom: 0.5em;}#sk-container-id-2 div.sk-estimator:hover {background-color: #d4ebff;}#sk-container-id-2 div.sk-parallel-item::after {content: \"\";width: 100%;border-bottom: 1px solid gray;flex-grow: 1;}#sk-container-id-2 div.sk-label:hover label.sk-toggleable__label {background-color: #d4ebff;}#sk-container-id-2 div.sk-serial::before {content: \"\";position: absolute;border-left: 1px solid gray;box-sizing: border-box;top: 0;bottom: 0;left: 50%;z-index: 0;}#sk-container-id-2 div.sk-serial {display: flex;flex-direction: column;align-items: center;background-color: white;padding-right: 0.2em;padding-left: 0.2em;position: relative;}#sk-container-id-2 div.sk-item {position: relative;z-index: 1;}#sk-container-id-2 div.sk-parallel {display: flex;align-items: stretch;justify-content: center;background-color: white;position: relative;}#sk-container-id-2 div.sk-item::before, #sk-container-id-2 div.sk-parallel-item::before {content: \"\";position: absolute;border-left: 1px solid gray;box-sizing: border-box;top: 0;bottom: 0;left: 50%;z-index: -1;}#sk-container-id-2 div.sk-parallel-item {display: flex;flex-direction: column;z-index: 1;position: relative;background-color: white;}#sk-container-id-2 div.sk-parallel-item:first-child::after {align-self: flex-end;width: 50%;}#sk-container-id-2 div.sk-parallel-item:last-child::after {align-self: flex-start;width: 50%;}#sk-container-id-2 div.sk-parallel-item:only-child::after {width: 0;}#sk-container-id-2 div.sk-dashed-wrapped {border: 1px dashed gray;margin: 0 0.4em 0.5em 0.4em;box-sizing: border-box;padding-bottom: 0.4em;background-color: white;}#sk-container-id-2 div.sk-label label {font-family: monospace;font-weight: bold;display: inline-block;line-height: 1.2em;}#sk-container-id-2 div.sk-label-container {text-align: center;}#sk-container-id-2 div.sk-container {/* jupyter's `normalize.less` sets `[hidden] { display: none; }` but bootstrap.min.css set `[hidden] { display: none !important; }` so we also need the `!important` here to be able to override the default hidden behavior on the sphinx rendered scikit-learn.org. See: https://github.com/scikit-learn/scikit-learn/issues/21755 */display: inline-block !important;position: relative;}#sk-container-id-2 div.sk-text-repr-fallback {display: none;}</style><div id=\"sk-container-id-2\" class=\"sk-top-container\"><div class=\"sk-text-repr-fallback\"><pre>SVR(degree=2, kernel=&#x27;linear&#x27;, tol=0.1)</pre><b>In a Jupyter environment, please rerun this cell to show the HTML representation or trust the notebook. <br />On GitHub, the HTML representation is unable to render, please try loading this page with nbviewer.org.</b></div><div class=\"sk-container\" hidden><div class=\"sk-item\"><div class=\"sk-estimator sk-toggleable\"><input class=\"sk-toggleable__control sk-hidden--visually\" id=\"sk-estimator-id-4\" type=\"checkbox\" checked><label for=\"sk-estimator-id-4\" class=\"sk-toggleable__label sk-toggleable__label-arrow\">SVR</label><div class=\"sk-toggleable__content\"><pre>SVR(degree=2, kernel=&#x27;linear&#x27;, tol=0.1)</pre></div></div></div></div></div>"
      ],
      "text/plain": [
       "SVR(degree=2, kernel='linear', tol=0.1)"
      ]
     },
     "execution_count": 30,
     "metadata": {},
     "output_type": "execute_result"
    }
   ],
   "source": [
    "sv_grid_search.best_estimator_"
   ]
  },
  {
   "cell_type": "code",
   "execution_count": 31,
   "id": "447ba0a9",
   "metadata": {},
   "outputs": [
    {
     "name": "stdout",
     "output_type": "stream",
     "text": [
      "The grid-search optimized random forest model's MAE on training data is: 16.237704682940343\n"
     ]
    }
   ],
   "source": [
    "sv_grid_train_pred, sv_mae_grid_train = predictions_and_mae(sv_grid_search.best_estimator_, X_train, y_train)\n",
    "print(\"The grid-search optimized random forest model's MAE on training data is:\", sv_mae_grid_train )"
   ]
  },
  {
   "cell_type": "code",
   "execution_count": 32,
   "id": "72c7a3d2",
   "metadata": {},
   "outputs": [
    {
     "name": "stderr",
     "output_type": "stream",
     "text": [
      "/Users/Nikki/.pyenv/versions/3.10.6/envs/dengue_fever/lib/python3.10/site-packages/sklearn/ensemble/_forest.py:407: FutureWarning: Criterion 'mae' was deprecated in v1.0 and will be removed in version 1.2. Use `criterion='absolute_error'` which is equivalent.\n",
      "  warn(\n"
     ]
    },
    {
     "data": {
      "text/html": [
       "<style>#sk-container-id-3 {color: black;background-color: white;}#sk-container-id-3 pre{padding: 0;}#sk-container-id-3 div.sk-toggleable {background-color: white;}#sk-container-id-3 label.sk-toggleable__label {cursor: pointer;display: block;width: 100%;margin-bottom: 0;padding: 0.3em;box-sizing: border-box;text-align: center;}#sk-container-id-3 label.sk-toggleable__label-arrow:before {content: \"▸\";float: left;margin-right: 0.25em;color: #696969;}#sk-container-id-3 label.sk-toggleable__label-arrow:hover:before {color: black;}#sk-container-id-3 div.sk-estimator:hover label.sk-toggleable__label-arrow:before {color: black;}#sk-container-id-3 div.sk-toggleable__content {max-height: 0;max-width: 0;overflow: hidden;text-align: left;background-color: #f0f8ff;}#sk-container-id-3 div.sk-toggleable__content pre {margin: 0.2em;color: black;border-radius: 0.25em;background-color: #f0f8ff;}#sk-container-id-3 input.sk-toggleable__control:checked~div.sk-toggleable__content {max-height: 200px;max-width: 100%;overflow: auto;}#sk-container-id-3 input.sk-toggleable__control:checked~label.sk-toggleable__label-arrow:before {content: \"▾\";}#sk-container-id-3 div.sk-estimator input.sk-toggleable__control:checked~label.sk-toggleable__label {background-color: #d4ebff;}#sk-container-id-3 div.sk-label input.sk-toggleable__control:checked~label.sk-toggleable__label {background-color: #d4ebff;}#sk-container-id-3 input.sk-hidden--visually {border: 0;clip: rect(1px 1px 1px 1px);clip: rect(1px, 1px, 1px, 1px);height: 1px;margin: -1px;overflow: hidden;padding: 0;position: absolute;width: 1px;}#sk-container-id-3 div.sk-estimator {font-family: monospace;background-color: #f0f8ff;border: 1px dotted black;border-radius: 0.25em;box-sizing: border-box;margin-bottom: 0.5em;}#sk-container-id-3 div.sk-estimator:hover {background-color: #d4ebff;}#sk-container-id-3 div.sk-parallel-item::after {content: \"\";width: 100%;border-bottom: 1px solid gray;flex-grow: 1;}#sk-container-id-3 div.sk-label:hover label.sk-toggleable__label {background-color: #d4ebff;}#sk-container-id-3 div.sk-serial::before {content: \"\";position: absolute;border-left: 1px solid gray;box-sizing: border-box;top: 0;bottom: 0;left: 50%;z-index: 0;}#sk-container-id-3 div.sk-serial {display: flex;flex-direction: column;align-items: center;background-color: white;padding-right: 0.2em;padding-left: 0.2em;position: relative;}#sk-container-id-3 div.sk-item {position: relative;z-index: 1;}#sk-container-id-3 div.sk-parallel {display: flex;align-items: stretch;justify-content: center;background-color: white;position: relative;}#sk-container-id-3 div.sk-item::before, #sk-container-id-3 div.sk-parallel-item::before {content: \"\";position: absolute;border-left: 1px solid gray;box-sizing: border-box;top: 0;bottom: 0;left: 50%;z-index: -1;}#sk-container-id-3 div.sk-parallel-item {display: flex;flex-direction: column;z-index: 1;position: relative;background-color: white;}#sk-container-id-3 div.sk-parallel-item:first-child::after {align-self: flex-end;width: 50%;}#sk-container-id-3 div.sk-parallel-item:last-child::after {align-self: flex-start;width: 50%;}#sk-container-id-3 div.sk-parallel-item:only-child::after {width: 0;}#sk-container-id-3 div.sk-dashed-wrapped {border: 1px dashed gray;margin: 0 0.4em 0.5em 0.4em;box-sizing: border-box;padding-bottom: 0.4em;background-color: white;}#sk-container-id-3 div.sk-label label {font-family: monospace;font-weight: bold;display: inline-block;line-height: 1.2em;}#sk-container-id-3 div.sk-label-container {text-align: center;}#sk-container-id-3 div.sk-container {/* jupyter's `normalize.less` sets `[hidden] { display: none; }` but bootstrap.min.css set `[hidden] { display: none !important; }` so we also need the `!important` here to be able to override the default hidden behavior on the sphinx rendered scikit-learn.org. See: https://github.com/scikit-learn/scikit-learn/issues/21755 */display: inline-block !important;position: relative;}#sk-container-id-3 div.sk-text-repr-fallback {display: none;}</style><div id=\"sk-container-id-3\" class=\"sk-top-container\"><div class=\"sk-text-repr-fallback\"><pre>RandomForestRegressor(criterion=&#x27;mae&#x27;, n_estimators=10, random_state=42)</pre><b>In a Jupyter environment, please rerun this cell to show the HTML representation or trust the notebook. <br />On GitHub, the HTML representation is unable to render, please try loading this page with nbviewer.org.</b></div><div class=\"sk-container\" hidden><div class=\"sk-item\"><div class=\"sk-estimator sk-toggleable\"><input class=\"sk-toggleable__control sk-hidden--visually\" id=\"sk-estimator-id-5\" type=\"checkbox\" checked><label for=\"sk-estimator-id-5\" class=\"sk-toggleable__label sk-toggleable__label-arrow\">RandomForestRegressor</label><div class=\"sk-toggleable__content\"><pre>RandomForestRegressor(criterion=&#x27;mae&#x27;, n_estimators=10, random_state=42)</pre></div></div></div></div></div>"
      ],
      "text/plain": [
       "RandomForestRegressor(criterion='mae', n_estimators=10, random_state=42)"
      ]
     },
     "execution_count": 32,
     "metadata": {},
     "output_type": "execute_result"
    }
   ],
   "source": [
    "# Creating and fitting the model with 10 trees\n",
    "rf_reg = RandomForestRegressor(n_estimators=10, random_state=RANDOM_STATE, criterion='mae')\n",
    "rf_reg.fit(X_train, y_train)"
   ]
  },
  {
   "cell_type": "code",
   "execution_count": 33,
   "id": "c5315673",
   "metadata": {},
   "outputs": [
    {
     "name": "stderr",
     "output_type": "stream",
     "text": [
      "/Users/Nikki/.pyenv/versions/3.10.6/envs/dengue_fever/lib/python3.10/site-packages/sklearn/ensemble/_forest.py:407: FutureWarning: Criterion 'mae' was deprecated in v1.0 and will be removed in version 1.2. Use `criterion='absolute_error'` which is equivalent.\n",
      "  warn(\n",
      "/Users/Nikki/.pyenv/versions/3.10.6/envs/dengue_fever/lib/python3.10/site-packages/sklearn/ensemble/_forest.py:407: FutureWarning: Criterion 'mae' was deprecated in v1.0 and will be removed in version 1.2. Use `criterion='absolute_error'` which is equivalent.\n",
      "  warn(\n",
      "/Users/Nikki/.pyenv/versions/3.10.6/envs/dengue_fever/lib/python3.10/site-packages/sklearn/ensemble/_forest.py:407: FutureWarning: Criterion 'mae' was deprecated in v1.0 and will be removed in version 1.2. Use `criterion='absolute_error'` which is equivalent.\n",
      "  warn(\n",
      "/Users/Nikki/.pyenv/versions/3.10.6/envs/dengue_fever/lib/python3.10/site-packages/sklearn/ensemble/_forest.py:407: FutureWarning: Criterion 'mae' was deprecated in v1.0 and will be removed in version 1.2. Use `criterion='absolute_error'` which is equivalent.\n",
      "  warn(\n",
      "/Users/Nikki/.pyenv/versions/3.10.6/envs/dengue_fever/lib/python3.10/site-packages/sklearn/ensemble/_forest.py:407: FutureWarning: Criterion 'mae' was deprecated in v1.0 and will be removed in version 1.2. Use `criterion='absolute_error'` which is equivalent.\n",
      "  warn(\n"
     ]
    },
    {
     "name": "stdout",
     "output_type": "stream",
     "text": [
      "Random Forest score:  [-20.3760274  -17.69634703 -19.98004587 -16.11284404 -17.09724771]\n"
     ]
    }
   ],
   "source": [
    "rf_reg_scores = cross_val_score(rf_reg, X_train, y_train, cv=CROSS_VAL_FOLDS, scoring='neg_mean_absolute_error')\n",
    "print(\"Random Forest score: \", rf_reg_scores)"
   ]
  },
  {
   "cell_type": "code",
   "execution_count": 34,
   "id": "bf1522b4",
   "metadata": {},
   "outputs": [
    {
     "name": "stdout",
     "output_type": "stream",
     "text": [
      "The random forest model's MAE on training data is: 6.9259615384615385\n"
     ]
    }
   ],
   "source": [
    "print(\"The random forest model's MAE on training data is:\",  predictions_and_mae(rf_reg, X_train, y_train)[1])"
   ]
  },
  {
   "cell_type": "code",
   "execution_count": null,
   "id": "6bc00e77",
   "metadata": {},
   "outputs": [],
   "source": []
  },
  {
   "cell_type": "code",
   "execution_count": 35,
   "id": "d9061176",
   "metadata": {},
   "outputs": [],
   "source": [
    "max_features = int(len(X_train.keys()))\n",
    "half_max_features = int(round(0.5*max_features))\n",
    "quarter_max_features = int(round(0.25*max_features))"
   ]
  },
  {
   "cell_type": "code",
   "execution_count": 36,
   "id": "b2becbf3",
   "metadata": {},
   "outputs": [
    {
     "data": {
      "text/html": [
       "<style>#sk-container-id-4 {color: black;background-color: white;}#sk-container-id-4 pre{padding: 0;}#sk-container-id-4 div.sk-toggleable {background-color: white;}#sk-container-id-4 label.sk-toggleable__label {cursor: pointer;display: block;width: 100%;margin-bottom: 0;padding: 0.3em;box-sizing: border-box;text-align: center;}#sk-container-id-4 label.sk-toggleable__label-arrow:before {content: \"▸\";float: left;margin-right: 0.25em;color: #696969;}#sk-container-id-4 label.sk-toggleable__label-arrow:hover:before {color: black;}#sk-container-id-4 div.sk-estimator:hover label.sk-toggleable__label-arrow:before {color: black;}#sk-container-id-4 div.sk-toggleable__content {max-height: 0;max-width: 0;overflow: hidden;text-align: left;background-color: #f0f8ff;}#sk-container-id-4 div.sk-toggleable__content pre {margin: 0.2em;color: black;border-radius: 0.25em;background-color: #f0f8ff;}#sk-container-id-4 input.sk-toggleable__control:checked~div.sk-toggleable__content {max-height: 200px;max-width: 100%;overflow: auto;}#sk-container-id-4 input.sk-toggleable__control:checked~label.sk-toggleable__label-arrow:before {content: \"▾\";}#sk-container-id-4 div.sk-estimator input.sk-toggleable__control:checked~label.sk-toggleable__label {background-color: #d4ebff;}#sk-container-id-4 div.sk-label input.sk-toggleable__control:checked~label.sk-toggleable__label {background-color: #d4ebff;}#sk-container-id-4 input.sk-hidden--visually {border: 0;clip: rect(1px 1px 1px 1px);clip: rect(1px, 1px, 1px, 1px);height: 1px;margin: -1px;overflow: hidden;padding: 0;position: absolute;width: 1px;}#sk-container-id-4 div.sk-estimator {font-family: monospace;background-color: #f0f8ff;border: 1px dotted black;border-radius: 0.25em;box-sizing: border-box;margin-bottom: 0.5em;}#sk-container-id-4 div.sk-estimator:hover {background-color: #d4ebff;}#sk-container-id-4 div.sk-parallel-item::after {content: \"\";width: 100%;border-bottom: 1px solid gray;flex-grow: 1;}#sk-container-id-4 div.sk-label:hover label.sk-toggleable__label {background-color: #d4ebff;}#sk-container-id-4 div.sk-serial::before {content: \"\";position: absolute;border-left: 1px solid gray;box-sizing: border-box;top: 0;bottom: 0;left: 50%;z-index: 0;}#sk-container-id-4 div.sk-serial {display: flex;flex-direction: column;align-items: center;background-color: white;padding-right: 0.2em;padding-left: 0.2em;position: relative;}#sk-container-id-4 div.sk-item {position: relative;z-index: 1;}#sk-container-id-4 div.sk-parallel {display: flex;align-items: stretch;justify-content: center;background-color: white;position: relative;}#sk-container-id-4 div.sk-item::before, #sk-container-id-4 div.sk-parallel-item::before {content: \"\";position: absolute;border-left: 1px solid gray;box-sizing: border-box;top: 0;bottom: 0;left: 50%;z-index: -1;}#sk-container-id-4 div.sk-parallel-item {display: flex;flex-direction: column;z-index: 1;position: relative;background-color: white;}#sk-container-id-4 div.sk-parallel-item:first-child::after {align-self: flex-end;width: 50%;}#sk-container-id-4 div.sk-parallel-item:last-child::after {align-self: flex-start;width: 50%;}#sk-container-id-4 div.sk-parallel-item:only-child::after {width: 0;}#sk-container-id-4 div.sk-dashed-wrapped {border: 1px dashed gray;margin: 0 0.4em 0.5em 0.4em;box-sizing: border-box;padding-bottom: 0.4em;background-color: white;}#sk-container-id-4 div.sk-label label {font-family: monospace;font-weight: bold;display: inline-block;line-height: 1.2em;}#sk-container-id-4 div.sk-label-container {text-align: center;}#sk-container-id-4 div.sk-container {/* jupyter's `normalize.less` sets `[hidden] { display: none; }` but bootstrap.min.css set `[hidden] { display: none !important; }` so we also need the `!important` here to be able to override the default hidden behavior on the sphinx rendered scikit-learn.org. See: https://github.com/scikit-learn/scikit-learn/issues/21755 */display: inline-block !important;position: relative;}#sk-container-id-4 div.sk-text-repr-fallback {display: none;}</style><div id=\"sk-container-id-4\" class=\"sk-top-container\"><div class=\"sk-text-repr-fallback\"><pre>GridSearchCV(cv=5, estimator=RandomForestRegressor(random_state=42),\n",
       "             param_grid={&#x27;bootstrap&#x27;: [True, False], &#x27;max_features&#x27;: [4, 8, 16],\n",
       "                         &#x27;min_samples_leaf&#x27;: [2, 3, 4, 5, 10],\n",
       "                         &#x27;n_estimators&#x27;: [50, 100, 200, 300, 400, 500]},\n",
       "             return_train_score=True, scoring=&#x27;neg_mean_absolute_error&#x27;)</pre><b>In a Jupyter environment, please rerun this cell to show the HTML representation or trust the notebook. <br />On GitHub, the HTML representation is unable to render, please try loading this page with nbviewer.org.</b></div><div class=\"sk-container\" hidden><div class=\"sk-item sk-dashed-wrapped\"><div class=\"sk-label-container\"><div class=\"sk-label sk-toggleable\"><input class=\"sk-toggleable__control sk-hidden--visually\" id=\"sk-estimator-id-6\" type=\"checkbox\" ><label for=\"sk-estimator-id-6\" class=\"sk-toggleable__label sk-toggleable__label-arrow\">GridSearchCV</label><div class=\"sk-toggleable__content\"><pre>GridSearchCV(cv=5, estimator=RandomForestRegressor(random_state=42),\n",
       "             param_grid={&#x27;bootstrap&#x27;: [True, False], &#x27;max_features&#x27;: [4, 8, 16],\n",
       "                         &#x27;min_samples_leaf&#x27;: [2, 3, 4, 5, 10],\n",
       "                         &#x27;n_estimators&#x27;: [50, 100, 200, 300, 400, 500]},\n",
       "             return_train_score=True, scoring=&#x27;neg_mean_absolute_error&#x27;)</pre></div></div></div><div class=\"sk-parallel\"><div class=\"sk-parallel-item\"><div class=\"sk-item\"><div class=\"sk-label-container\"><div class=\"sk-label sk-toggleable\"><input class=\"sk-toggleable__control sk-hidden--visually\" id=\"sk-estimator-id-7\" type=\"checkbox\" ><label for=\"sk-estimator-id-7\" class=\"sk-toggleable__label sk-toggleable__label-arrow\">estimator: RandomForestRegressor</label><div class=\"sk-toggleable__content\"><pre>RandomForestRegressor(random_state=42)</pre></div></div></div><div class=\"sk-serial\"><div class=\"sk-item\"><div class=\"sk-estimator sk-toggleable\"><input class=\"sk-toggleable__control sk-hidden--visually\" id=\"sk-estimator-id-8\" type=\"checkbox\" ><label for=\"sk-estimator-id-8\" class=\"sk-toggleable__label sk-toggleable__label-arrow\">RandomForestRegressor</label><div class=\"sk-toggleable__content\"><pre>RandomForestRegressor(random_state=42)</pre></div></div></div></div></div></div></div></div></div></div>"
      ],
      "text/plain": [
       "GridSearchCV(cv=5, estimator=RandomForestRegressor(random_state=42),\n",
       "             param_grid={'bootstrap': [True, False], 'max_features': [4, 8, 16],\n",
       "                         'min_samples_leaf': [2, 3, 4, 5, 10],\n",
       "                         'n_estimators': [50, 100, 200, 300, 400, 500]},\n",
       "             return_train_score=True, scoring='neg_mean_absolute_error')"
      ]
     },
     "execution_count": 36,
     "metadata": {},
     "output_type": "execute_result"
    }
   ],
   "source": [
    "rf_param_grid = {'n_estimators': [50, 100, 200,300,400,500],\n",
    "                 'bootstrap': [True, False],\n",
    "                 'max_features': [quarter_max_features, half_max_features, max_features],\n",
    "                 #'max_features': [2,4,6,8,10,12,14,16],\n",
    "                 'min_samples_leaf': [2,3,4,5,10],\n",
    "                 }\n",
    "\n",
    "rf_grid_search = GridSearchCV(RandomForestRegressor(random_state=RANDOM_STATE), rf_param_grid, cv=CROSS_VAL_FOLDS, scoring='neg_mean_absolute_error', return_train_score=True)\n",
    "rf_grid_search.fit(X_train, y_train)"
   ]
  },
  {
   "cell_type": "code",
   "execution_count": 37,
   "id": "ee794255",
   "metadata": {},
   "outputs": [
    {
     "data": {
      "text/plain": [
       "{'bootstrap': False,\n",
       " 'max_features': 8,\n",
       " 'min_samples_leaf': 3,\n",
       " 'n_estimators': 500}"
      ]
     },
     "execution_count": 37,
     "metadata": {},
     "output_type": "execute_result"
    }
   ],
   "source": [
    "rf_grid_search.best_params_"
   ]
  },
  {
   "cell_type": "code",
   "execution_count": 38,
   "id": "7b3d0d8d",
   "metadata": {},
   "outputs": [
    {
     "data": {
      "text/html": [
       "<style>#sk-container-id-5 {color: black;background-color: white;}#sk-container-id-5 pre{padding: 0;}#sk-container-id-5 div.sk-toggleable {background-color: white;}#sk-container-id-5 label.sk-toggleable__label {cursor: pointer;display: block;width: 100%;margin-bottom: 0;padding: 0.3em;box-sizing: border-box;text-align: center;}#sk-container-id-5 label.sk-toggleable__label-arrow:before {content: \"▸\";float: left;margin-right: 0.25em;color: #696969;}#sk-container-id-5 label.sk-toggleable__label-arrow:hover:before {color: black;}#sk-container-id-5 div.sk-estimator:hover label.sk-toggleable__label-arrow:before {color: black;}#sk-container-id-5 div.sk-toggleable__content {max-height: 0;max-width: 0;overflow: hidden;text-align: left;background-color: #f0f8ff;}#sk-container-id-5 div.sk-toggleable__content pre {margin: 0.2em;color: black;border-radius: 0.25em;background-color: #f0f8ff;}#sk-container-id-5 input.sk-toggleable__control:checked~div.sk-toggleable__content {max-height: 200px;max-width: 100%;overflow: auto;}#sk-container-id-5 input.sk-toggleable__control:checked~label.sk-toggleable__label-arrow:before {content: \"▾\";}#sk-container-id-5 div.sk-estimator input.sk-toggleable__control:checked~label.sk-toggleable__label {background-color: #d4ebff;}#sk-container-id-5 div.sk-label input.sk-toggleable__control:checked~label.sk-toggleable__label {background-color: #d4ebff;}#sk-container-id-5 input.sk-hidden--visually {border: 0;clip: rect(1px 1px 1px 1px);clip: rect(1px, 1px, 1px, 1px);height: 1px;margin: -1px;overflow: hidden;padding: 0;position: absolute;width: 1px;}#sk-container-id-5 div.sk-estimator {font-family: monospace;background-color: #f0f8ff;border: 1px dotted black;border-radius: 0.25em;box-sizing: border-box;margin-bottom: 0.5em;}#sk-container-id-5 div.sk-estimator:hover {background-color: #d4ebff;}#sk-container-id-5 div.sk-parallel-item::after {content: \"\";width: 100%;border-bottom: 1px solid gray;flex-grow: 1;}#sk-container-id-5 div.sk-label:hover label.sk-toggleable__label {background-color: #d4ebff;}#sk-container-id-5 div.sk-serial::before {content: \"\";position: absolute;border-left: 1px solid gray;box-sizing: border-box;top: 0;bottom: 0;left: 50%;z-index: 0;}#sk-container-id-5 div.sk-serial {display: flex;flex-direction: column;align-items: center;background-color: white;padding-right: 0.2em;padding-left: 0.2em;position: relative;}#sk-container-id-5 div.sk-item {position: relative;z-index: 1;}#sk-container-id-5 div.sk-parallel {display: flex;align-items: stretch;justify-content: center;background-color: white;position: relative;}#sk-container-id-5 div.sk-item::before, #sk-container-id-5 div.sk-parallel-item::before {content: \"\";position: absolute;border-left: 1px solid gray;box-sizing: border-box;top: 0;bottom: 0;left: 50%;z-index: -1;}#sk-container-id-5 div.sk-parallel-item {display: flex;flex-direction: column;z-index: 1;position: relative;background-color: white;}#sk-container-id-5 div.sk-parallel-item:first-child::after {align-self: flex-end;width: 50%;}#sk-container-id-5 div.sk-parallel-item:last-child::after {align-self: flex-start;width: 50%;}#sk-container-id-5 div.sk-parallel-item:only-child::after {width: 0;}#sk-container-id-5 div.sk-dashed-wrapped {border: 1px dashed gray;margin: 0 0.4em 0.5em 0.4em;box-sizing: border-box;padding-bottom: 0.4em;background-color: white;}#sk-container-id-5 div.sk-label label {font-family: monospace;font-weight: bold;display: inline-block;line-height: 1.2em;}#sk-container-id-5 div.sk-label-container {text-align: center;}#sk-container-id-5 div.sk-container {/* jupyter's `normalize.less` sets `[hidden] { display: none; }` but bootstrap.min.css set `[hidden] { display: none !important; }` so we also need the `!important` here to be able to override the default hidden behavior on the sphinx rendered scikit-learn.org. See: https://github.com/scikit-learn/scikit-learn/issues/21755 */display: inline-block !important;position: relative;}#sk-container-id-5 div.sk-text-repr-fallback {display: none;}</style><div id=\"sk-container-id-5\" class=\"sk-top-container\"><div class=\"sk-text-repr-fallback\"><pre>RandomForestRegressor(bootstrap=False, max_features=8, min_samples_leaf=3,\n",
       "                      n_estimators=500, random_state=42)</pre><b>In a Jupyter environment, please rerun this cell to show the HTML representation or trust the notebook. <br />On GitHub, the HTML representation is unable to render, please try loading this page with nbviewer.org.</b></div><div class=\"sk-container\" hidden><div class=\"sk-item\"><div class=\"sk-estimator sk-toggleable\"><input class=\"sk-toggleable__control sk-hidden--visually\" id=\"sk-estimator-id-9\" type=\"checkbox\" checked><label for=\"sk-estimator-id-9\" class=\"sk-toggleable__label sk-toggleable__label-arrow\">RandomForestRegressor</label><div class=\"sk-toggleable__content\"><pre>RandomForestRegressor(bootstrap=False, max_features=8, min_samples_leaf=3,\n",
       "                      n_estimators=500, random_state=42)</pre></div></div></div></div></div>"
      ],
      "text/plain": [
       "RandomForestRegressor(bootstrap=False, max_features=8, min_samples_leaf=3,\n",
       "                      n_estimators=500, random_state=42)"
      ]
     },
     "execution_count": 38,
     "metadata": {},
     "output_type": "execute_result"
    }
   ],
   "source": [
    "rf_grid_search.best_estimator_"
   ]
  },
  {
   "cell_type": "code",
   "execution_count": 39,
   "id": "70d9ceb4",
   "metadata": {},
   "outputs": [
    {
     "name": "stdout",
     "output_type": "stream",
     "text": [
      "The grid-search optimized random forest model's MAE on training data is: 3.848423260073256\n"
     ]
    }
   ],
   "source": [
    "rf_grid_train_pred, mae_grid_train = predictions_and_mae(rf_grid_search.best_estimator_, X_train, y_train)\n",
    "print(\"The grid-search optimized random forest model's MAE on training data is:\", mae_grid_train )"
   ]
  },
  {
   "cell_type": "code",
   "execution_count": 40,
   "id": "498f01c9",
   "metadata": {},
   "outputs": [
    {
     "name": "stderr",
     "output_type": "stream",
     "text": [
      "/Users/Nikki/.pyenv/versions/3.10.6/envs/dengue_fever/lib/python3.10/site-packages/sklearn/ensemble/_forest.py:416: FutureWarning: `max_features='auto'` has been deprecated in 1.1 and will be removed in 1.3. To keep the past behaviour, explicitly set `max_features=1.0` or remove this parameter as it is also the default value for RandomForestRegressors and ExtraTreesRegressors.\n",
      "  warn(\n",
      "/Users/Nikki/.pyenv/versions/3.10.6/envs/dengue_fever/lib/python3.10/site-packages/sklearn/ensemble/_forest.py:416: FutureWarning: `max_features='auto'` has been deprecated in 1.1 and will be removed in 1.3. To keep the past behaviour, explicitly set `max_features=1.0` or remove this parameter as it is also the default value for RandomForestRegressors and ExtraTreesRegressors.\n",
      "  warn(\n",
      "/Users/Nikki/.pyenv/versions/3.10.6/envs/dengue_fever/lib/python3.10/site-packages/sklearn/ensemble/_forest.py:416: FutureWarning: `max_features='auto'` has been deprecated in 1.1 and will be removed in 1.3. To keep the past behaviour, explicitly set `max_features=1.0` or remove this parameter as it is also the default value for RandomForestRegressors and ExtraTreesRegressors.\n",
      "  warn(\n",
      "/Users/Nikki/.pyenv/versions/3.10.6/envs/dengue_fever/lib/python3.10/site-packages/sklearn/ensemble/_forest.py:416: FutureWarning: `max_features='auto'` has been deprecated in 1.1 and will be removed in 1.3. To keep the past behaviour, explicitly set `max_features=1.0` or remove this parameter as it is also the default value for RandomForestRegressors and ExtraTreesRegressors.\n",
      "  warn(\n",
      "/Users/Nikki/.pyenv/versions/3.10.6/envs/dengue_fever/lib/python3.10/site-packages/sklearn/ensemble/_forest.py:416: FutureWarning: `max_features='auto'` has been deprecated in 1.1 and will be removed in 1.3. To keep the past behaviour, explicitly set `max_features=1.0` or remove this parameter as it is also the default value for RandomForestRegressors and ExtraTreesRegressors.\n",
      "  warn(\n",
      "/Users/Nikki/.pyenv/versions/3.10.6/envs/dengue_fever/lib/python3.10/site-packages/sklearn/ensemble/_forest.py:416: FutureWarning: `max_features='auto'` has been deprecated in 1.1 and will be removed in 1.3. To keep the past behaviour, explicitly set `max_features=1.0` or remove this parameter as it is also the default value for RandomForestRegressors and ExtraTreesRegressors.\n",
      "  warn(\n",
      "/Users/Nikki/.pyenv/versions/3.10.6/envs/dengue_fever/lib/python3.10/site-packages/sklearn/ensemble/_forest.py:416: FutureWarning: `max_features='auto'` has been deprecated in 1.1 and will be removed in 1.3. To keep the past behaviour, explicitly set `max_features=1.0` or remove this parameter as it is also the default value for RandomForestRegressors and ExtraTreesRegressors.\n",
      "  warn(\n",
      "/Users/Nikki/.pyenv/versions/3.10.6/envs/dengue_fever/lib/python3.10/site-packages/sklearn/ensemble/_forest.py:416: FutureWarning: `max_features='auto'` has been deprecated in 1.1 and will be removed in 1.3. To keep the past behaviour, explicitly set `max_features=1.0` or remove this parameter as it is also the default value for RandomForestRegressors and ExtraTreesRegressors.\n",
      "  warn(\n",
      "/Users/Nikki/.pyenv/versions/3.10.6/envs/dengue_fever/lib/python3.10/site-packages/sklearn/ensemble/_forest.py:416: FutureWarning: `max_features='auto'` has been deprecated in 1.1 and will be removed in 1.3. To keep the past behaviour, explicitly set `max_features=1.0` or remove this parameter as it is also the default value for RandomForestRegressors and ExtraTreesRegressors.\n",
      "  warn(\n",
      "/Users/Nikki/.pyenv/versions/3.10.6/envs/dengue_fever/lib/python3.10/site-packages/sklearn/ensemble/_forest.py:416: FutureWarning: `max_features='auto'` has been deprecated in 1.1 and will be removed in 1.3. To keep the past behaviour, explicitly set `max_features=1.0` or remove this parameter as it is also the default value for RandomForestRegressors and ExtraTreesRegressors.\n",
      "  warn(\n",
      "/Users/Nikki/.pyenv/versions/3.10.6/envs/dengue_fever/lib/python3.10/site-packages/sklearn/ensemble/_forest.py:416: FutureWarning: `max_features='auto'` has been deprecated in 1.1 and will be removed in 1.3. To keep the past behaviour, explicitly set `max_features=1.0` or remove this parameter as it is also the default value for RandomForestRegressors and ExtraTreesRegressors.\n",
      "  warn(\n",
      "/Users/Nikki/.pyenv/versions/3.10.6/envs/dengue_fever/lib/python3.10/site-packages/sklearn/ensemble/_forest.py:416: FutureWarning: `max_features='auto'` has been deprecated in 1.1 and will be removed in 1.3. To keep the past behaviour, explicitly set `max_features=1.0` or remove this parameter as it is also the default value for RandomForestRegressors and ExtraTreesRegressors.\n",
      "  warn(\n",
      "/Users/Nikki/.pyenv/versions/3.10.6/envs/dengue_fever/lib/python3.10/site-packages/sklearn/ensemble/_forest.py:416: FutureWarning: `max_features='auto'` has been deprecated in 1.1 and will be removed in 1.3. To keep the past behaviour, explicitly set `max_features=1.0` or remove this parameter as it is also the default value for RandomForestRegressors and ExtraTreesRegressors.\n",
      "  warn(\n",
      "/Users/Nikki/.pyenv/versions/3.10.6/envs/dengue_fever/lib/python3.10/site-packages/sklearn/ensemble/_forest.py:416: FutureWarning: `max_features='auto'` has been deprecated in 1.1 and will be removed in 1.3. To keep the past behaviour, explicitly set `max_features=1.0` or remove this parameter as it is also the default value for RandomForestRegressors and ExtraTreesRegressors.\n",
      "  warn(\n",
      "/Users/Nikki/.pyenv/versions/3.10.6/envs/dengue_fever/lib/python3.10/site-packages/sklearn/ensemble/_forest.py:416: FutureWarning: `max_features='auto'` has been deprecated in 1.1 and will be removed in 1.3. To keep the past behaviour, explicitly set `max_features=1.0` or remove this parameter as it is also the default value for RandomForestRegressors and ExtraTreesRegressors.\n",
      "  warn(\n",
      "/Users/Nikki/.pyenv/versions/3.10.6/envs/dengue_fever/lib/python3.10/site-packages/sklearn/ensemble/_forest.py:416: FutureWarning: `max_features='auto'` has been deprecated in 1.1 and will be removed in 1.3. To keep the past behaviour, explicitly set `max_features=1.0` or remove this parameter as it is also the default value for RandomForestRegressors and ExtraTreesRegressors.\n",
      "  warn(\n",
      "/Users/Nikki/.pyenv/versions/3.10.6/envs/dengue_fever/lib/python3.10/site-packages/sklearn/ensemble/_forest.py:416: FutureWarning: `max_features='auto'` has been deprecated in 1.1 and will be removed in 1.3. To keep the past behaviour, explicitly set `max_features=1.0` or remove this parameter as it is also the default value for RandomForestRegressors and ExtraTreesRegressors.\n",
      "  warn(\n",
      "/Users/Nikki/.pyenv/versions/3.10.6/envs/dengue_fever/lib/python3.10/site-packages/sklearn/ensemble/_forest.py:416: FutureWarning: `max_features='auto'` has been deprecated in 1.1 and will be removed in 1.3. To keep the past behaviour, explicitly set `max_features=1.0` or remove this parameter as it is also the default value for RandomForestRegressors and ExtraTreesRegressors.\n",
      "  warn(\n",
      "/Users/Nikki/.pyenv/versions/3.10.6/envs/dengue_fever/lib/python3.10/site-packages/sklearn/ensemble/_forest.py:416: FutureWarning: `max_features='auto'` has been deprecated in 1.1 and will be removed in 1.3. To keep the past behaviour, explicitly set `max_features=1.0` or remove this parameter as it is also the default value for RandomForestRegressors and ExtraTreesRegressors.\n",
      "  warn(\n",
      "/Users/Nikki/.pyenv/versions/3.10.6/envs/dengue_fever/lib/python3.10/site-packages/sklearn/ensemble/_forest.py:416: FutureWarning: `max_features='auto'` has been deprecated in 1.1 and will be removed in 1.3. To keep the past behaviour, explicitly set `max_features=1.0` or remove this parameter as it is also the default value for RandomForestRegressors and ExtraTreesRegressors.\n",
      "  warn(\n"
     ]
    },
    {
     "name": "stdout",
     "output_type": "stream",
     "text": [
      "{'n_estimators': 300, 'min_samples_split': 5, 'min_samples_leaf': 1, 'max_features': 'sqrt', 'max_depth': 80, 'bootstrap': False}\n",
      "The grid-search optimized random forest model's MAE on training data is: 2.0582346357346357\n",
      "The best model's MAE on test data is: 16.959062881562883\n"
     ]
    }
   ],
   "source": [
    "rnd_max_depth = [int(x) for x in np.linspace(10, 110, num = 11)]\n",
    "rnd_max_depth.append(None)\n",
    "\n",
    "rf_param_rnd = {'n_estimators': [int(x) for x in np.linspace(start = 100, stop = 1000, num = 10)],\n",
    "                'bootstrap': [True, False],\n",
    "                'max_features': ['auto', 'sqrt'],\n",
    "                'min_samples_leaf': [1, 2, 3, 4, 5,6,7,8,9,10,20,30],\n",
    "                'max_depth': rnd_max_depth,\n",
    "                'min_samples_split': [2, 3, 4, 5, 6, 8, 10,15],\n",
    "                \n",
    "                 }\n",
    "\n",
    "rf_rnd_search = RandomizedSearchCV(RandomForestRegressor(random_state=RANDOM_STATE), rf_param_rnd, cv=CROSS_VAL_FOLDS, scoring='neg_mean_absolute_error', return_train_score=True)\n",
    "rf_rnd_search.fit(X_train, y_train)\n",
    "\n",
    "print(rf_rnd_search.best_params_)\n",
    "_, rnd_mae_grid_train = predictions_and_mae(rf_rnd_search.best_estimator_, X_train, y_train)\n",
    "print(\"The grid-search optimized random forest model's MAE on training data is:\", rnd_mae_grid_train )\n",
    "\n",
    "\n",
    "_, rnd_test_mae = predictions_and_mae(rf_rnd_search.best_estimator_, X_test, y_test)\n",
    "print(\"The best model's MAE on test data is:\",rnd_test_mae)"
   ]
  },
  {
   "cell_type": "code",
   "execution_count": 41,
   "id": "d237cdae",
   "metadata": {},
   "outputs": [],
   "source": [
    "# Change this if rf_grid was not the best choice here\n",
    "best_model_name = RandomForestRegressor\n",
    "best_estimator = rf_grid_search.best_estimator_\n",
    "best_params = rf_grid_search.best_params_\n",
    "best_param_grid = rf_param_grid  # Only to be used if re-doing feature importance (below)"
   ]
  },
  {
   "cell_type": "code",
   "execution_count": 42,
   "id": "b4d037ff",
   "metadata": {},
   "outputs": [
    {
     "name": "stdout",
     "output_type": "stream",
     "text": [
      "The best model's MAE on test data is: 16.00112335164835\n"
     ]
    }
   ],
   "source": [
    "y_test_pred, test_mae = predictions_and_mae(best_estimator, X_test, y_test)\n",
    "\n",
    "print(\"The best model's MAE on test data is:\",test_mae)"
   ]
  },
  {
   "cell_type": "code",
   "execution_count": 77,
   "id": "31b8e051",
   "metadata": {},
   "outputs": [
    {
     "data": {
      "text/html": [
       "<div>\n",
       "<style scoped>\n",
       "    .dataframe tbody tr th:only-of-type {\n",
       "        vertical-align: middle;\n",
       "    }\n",
       "\n",
       "    .dataframe tbody tr th {\n",
       "        vertical-align: top;\n",
       "    }\n",
       "\n",
       "    .dataframe thead th {\n",
       "        text-align: right;\n",
       "    }\n",
       "</style>\n",
       "<table border=\"1\" class=\"dataframe\">\n",
       "  <thead>\n",
       "    <tr style=\"text-align: right;\">\n",
       "      <th></th>\n",
       "      <th>Feature</th>\n",
       "      <th>Importance</th>\n",
       "      <th>Cumulative Importance</th>\n",
       "    </tr>\n",
       "  </thead>\n",
       "  <tbody>\n",
       "    <tr>\n",
       "      <th>1</th>\n",
       "      <td>ndvi_sw</td>\n",
       "      <td>0.199572</td>\n",
       "      <td>0.199572</td>\n",
       "    </tr>\n",
       "    <tr>\n",
       "      <th>2</th>\n",
       "      <td>ndvi_nw</td>\n",
       "      <td>0.135440</td>\n",
       "      <td>0.335012</td>\n",
       "    </tr>\n",
       "    <tr>\n",
       "      <th>3</th>\n",
       "      <td>cos_yearofdecade</td>\n",
       "      <td>0.108559</td>\n",
       "      <td>0.443571</td>\n",
       "    </tr>\n",
       "    <tr>\n",
       "      <th>4</th>\n",
       "      <td>cos_weekofyear</td>\n",
       "      <td>0.098121</td>\n",
       "      <td>0.541692</td>\n",
       "    </tr>\n",
       "    <tr>\n",
       "      <th>5</th>\n",
       "      <td>reanalysis_min_air_temp_k</td>\n",
       "      <td>0.087326</td>\n",
       "      <td>0.629018</td>\n",
       "    </tr>\n",
       "    <tr>\n",
       "      <th>6</th>\n",
       "      <td>reanalysis_dew_point_temp_k</td>\n",
       "      <td>0.059436</td>\n",
       "      <td>0.688454</td>\n",
       "    </tr>\n",
       "    <tr>\n",
       "      <th>7</th>\n",
       "      <td>reanalysis_specific_humidity_g_per_kg</td>\n",
       "      <td>0.059169</td>\n",
       "      <td>0.747624</td>\n",
       "    </tr>\n",
       "    <tr>\n",
       "      <th>8</th>\n",
       "      <td>reanalysis_tdtr_k</td>\n",
       "      <td>0.045835</td>\n",
       "      <td>0.793459</td>\n",
       "    </tr>\n",
       "    <tr>\n",
       "      <th>9</th>\n",
       "      <td>ndvi_se</td>\n",
       "      <td>0.040080</td>\n",
       "      <td>0.833539</td>\n",
       "    </tr>\n",
       "    <tr>\n",
       "      <th>10</th>\n",
       "      <td>ndvi_ne</td>\n",
       "      <td>0.030062</td>\n",
       "      <td>0.863601</td>\n",
       "    </tr>\n",
       "    <tr>\n",
       "      <th>11</th>\n",
       "      <td>reanalysis_avg_temp_k</td>\n",
       "      <td>0.027888</td>\n",
       "      <td>0.891489</td>\n",
       "    </tr>\n",
       "    <tr>\n",
       "      <th>12</th>\n",
       "      <td>reanalysis_sat_precip_amt_mm</td>\n",
       "      <td>0.024346</td>\n",
       "      <td>0.915836</td>\n",
       "    </tr>\n",
       "    <tr>\n",
       "      <th>13</th>\n",
       "      <td>reanalysis_max_air_temp_k</td>\n",
       "      <td>0.024220</td>\n",
       "      <td>0.940056</td>\n",
       "    </tr>\n",
       "    <tr>\n",
       "      <th>14</th>\n",
       "      <td>reanalysis_relative_humidity_percent</td>\n",
       "      <td>0.023610</td>\n",
       "      <td>0.963666</td>\n",
       "    </tr>\n",
       "    <tr>\n",
       "      <th>15</th>\n",
       "      <td>reanalysis_precip_amt_kg_per_m2</td>\n",
       "      <td>0.020691</td>\n",
       "      <td>0.984357</td>\n",
       "    </tr>\n",
       "    <tr>\n",
       "      <th>16</th>\n",
       "      <td>x0_sj</td>\n",
       "      <td>0.015643</td>\n",
       "      <td>1.000000</td>\n",
       "    </tr>\n",
       "  </tbody>\n",
       "</table>\n",
       "</div>"
      ],
      "text/plain": [
       "                                  Feature  Importance  Cumulative Importance\n",
       "1                                 ndvi_sw    0.199572               0.199572\n",
       "2                                 ndvi_nw    0.135440               0.335012\n",
       "3                        cos_yearofdecade    0.108559               0.443571\n",
       "4                          cos_weekofyear    0.098121               0.541692\n",
       "5               reanalysis_min_air_temp_k    0.087326               0.629018\n",
       "6             reanalysis_dew_point_temp_k    0.059436               0.688454\n",
       "7   reanalysis_specific_humidity_g_per_kg    0.059169               0.747624\n",
       "8                       reanalysis_tdtr_k    0.045835               0.793459\n",
       "9                                 ndvi_se    0.040080               0.833539\n",
       "10                                ndvi_ne    0.030062               0.863601\n",
       "11                  reanalysis_avg_temp_k    0.027888               0.891489\n",
       "12           reanalysis_sat_precip_amt_mm    0.024346               0.915836\n",
       "13              reanalysis_max_air_temp_k    0.024220               0.940056\n",
       "14   reanalysis_relative_humidity_percent    0.023610               0.963666\n",
       "15        reanalysis_precip_amt_kg_per_m2    0.020691               0.984357\n",
       "16                                  x0_sj    0.015643               1.000000"
      ]
     },
     "metadata": {},
     "output_type": "display_data"
    }
   ],
   "source": [
    "# This shows that approx n=12 features suffices for >90% of the importance.\n",
    "most_important_feature_list=show_feature_importance(X_train,y_train, most_important_n=12, print_all=True, params_dict=best_params)"
   ]
  },
  {
   "cell_type": "code",
   "execution_count": 78,
   "id": "877eb5c5",
   "metadata": {},
   "outputs": [
    {
     "name": "stdout",
     "output_type": "stream",
     "text": [
      "The feature optimized best model grid-search's MAE on training data is: 4.000129629629629\n",
      "The best model's MAE on test data is: 15.755440934065938\n"
     ]
    }
   ],
   "source": [
    "# Features \n",
    "feature_opt_passthru_attribs = most_important_feature_list\n",
    "\n",
    "# Pipeline\n",
    "feature_opt_pipeline = ColumnTransformer([\n",
    "                                          (\"passthru\",'passthrough', feature_opt_passthru_attribs),\n",
    "                                          ],\n",
    "                                         remainder='drop'\n",
    "                                         )\n",
    "feature_opt_pipeline.fit(X_prep)\n",
    "feature_opt_pipeline_cols = get_column_names_from_ColumnTransformer(feature_opt_pipeline)\n",
    "\n",
    "\n",
    "feature_opt_X_prep = pd.DataFrame(feature_opt_pipeline.transform(X_prep), columns=feature_opt_pipeline_cols)\n",
    "feature_opt_X_prep.index = np.arange(1, len(feature_opt_X_prep) + 1)\n",
    "feature_opt_y_prep = y # no need to deep copy, no changes were made\n",
    "\n",
    "if not (USE_PREV_CASES):\n",
    "    feature_opt_competition_X_prep = pd.DataFrame(feature_opt_pipeline.transform(competition_X_prep), columns=feature_opt_pipeline_cols)\n",
    "    feature_opt_competition_y_prep = competition_y #no need to deep copy, no changes were made\n",
    "\n",
    "# Train Test Split\n",
    "feature_opt_X_train, feature_opt_X_test, feature_opt_y_train, feature_opt_y_test = train_test_split(feature_opt_X_prep,feature_opt_y_prep['total_cases'],test_size=TEST_SIZE,random_state=RANDOM_STATE)\n",
    "\n",
    "# Model Fitting\n",
    "feature_opt_model_name = best_model_name\n",
    "max_features = int(len(feature_opt_X_train.keys()))\n",
    "half_max_features = int(round(0.5*max_features))\n",
    "quarter_max_features = int(round(0.25*max_features))\n",
    "\n",
    "\n",
    "feature_opt_param_grid = {'n_estimators': [50, 100, 200,300],\n",
    "                 'bootstrap': [False],\n",
    "                 'max_features': [quarter_max_features, half_max_features, max_features],\n",
    "                 'min_samples_leaf': [2,3,4],\n",
    "                 }\n",
    "\n",
    "feature_opt_grid_search =  GridSearchCV(feature_opt_model_name(random_state=RANDOM_STATE), feature_opt_param_grid, cv=CROSS_VAL_FOLDS, scoring='neg_mean_squared_error', return_train_score=True)\n",
    "feature_opt_grid_search.fit(feature_opt_X_train, feature_opt_y_train)\n",
    "\n",
    "feature_opt_estimator = feature_opt_grid_search.best_estimator_\n",
    "feature_opt_params = feature_opt_grid_search.best_params_\n",
    "\n",
    "feature_opt_grid_train_pred, feature_opt_mae_grid_train = predictions_and_mae(feature_opt_grid_search.best_estimator_, feature_opt_X_train, feature_opt_y_train)\n",
    "print(\"The feature optimized best model grid-search's MAE on training data is:\", feature_opt_mae_grid_train )\n",
    "\n",
    "feature_opt_y_test_pred, feature_opt_test_mae = predictions_and_mae(feature_opt_grid_search.best_estimator_, feature_opt_X_test, feature_opt_y_test)\n",
    "print(\"The best model's MAE on test data is:\",feature_opt_test_mae)"
   ]
  },
  {
   "cell_type": "code",
   "execution_count": 79,
   "id": "57d836a2",
   "metadata": {},
   "outputs": [],
   "source": [
    "if USE_FEATURE_IMPORTANCE:\n",
    "    final_model_name = feature_opt_model_name\n",
    "    final_params = feature_opt_params\n",
    "    final_X_prep = feature_opt_X_prep\n",
    "    final_y_prep = feature_opt_y_prep\n",
    "    if not USE_PREV_CASES:\n",
    "        final_competition_X_prep = feature_opt_competition_X_prep\n",
    "        final_competition_y_prep = feature_opt_competition_y_prep\n",
    "else:\n",
    "    final_model_name = best_model_name\n",
    "    final_params = best_params\n",
    "    final_X_prep = X_prep\n",
    "    final_y_prep = y_prep\n",
    "    if not USE_PREV_CASES:\n",
    "        final_competition_X_prep = competition_X_prep\n",
    "        final_competition_y_prep = competition_y_prep"
   ]
  },
  {
   "cell_type": "code",
   "execution_count": 80,
   "id": "730750f3",
   "metadata": {},
   "outputs": [],
   "source": [
    "final_model = final_model_name(**final_params)\n",
    "final_estimator = final_model.fit(final_X_prep,final_y_prep['total_cases'])"
   ]
  },
  {
   "cell_type": "code",
   "execution_count": 81,
   "id": "4fef5fac",
   "metadata": {},
   "outputs": [
    {
     "name": "stdout",
     "output_type": "stream",
     "text": [
      "The final model's MAE on full training data is: 4.024301785714282\n"
     ]
    }
   ],
   "source": [
    "y_full_train_pred, full_train_mae = predictions_and_mae(final_estimator, final_X_prep,final_y_prep['total_cases'])\n",
    "print(\"The final model's MAE on full training data is:\",  full_train_mae)"
   ]
  },
  {
   "cell_type": "code",
   "execution_count": 82,
   "id": "1ccb200f",
   "metadata": {},
   "outputs": [],
   "source": [
    "if not USE_PREV_CASES:\n",
    "    y_competition_pred,_ = predictions_and_mae(final_estimator, final_competition_X_prep, final_competition_y_prep['total_cases'])"
   ]
  },
  {
   "cell_type": "code",
   "execution_count": 1,
   "id": "1e84f08e",
   "metadata": {},
   "outputs": [
    {
     "ename": "NameError",
     "evalue": "name 'submission_df' is not defined",
     "output_type": "error",
     "traceback": [
      "\u001b[0;31m---------------------------------------------------------------------------\u001b[0m",
      "\u001b[0;31mNameError\u001b[0m                                 Traceback (most recent call last)",
      "Cell \u001b[0;32mIn [1], line 1\u001b[0m\n\u001b[0;32m----> 1\u001b[0m \u001b[43msubmission_df\u001b[49m\n",
      "\u001b[0;31mNameError\u001b[0m: name 'submission_df' is not defined"
     ]
    }
   ],
   "source": [
    "submission_df"
   ]
  },
  {
   "cell_type": "code",
   "execution_count": 2,
   "id": "567841d5",
   "metadata": {},
   "outputs": [
    {
     "ename": "NameError",
     "evalue": "name 'competition_y' is not defined",
     "output_type": "error",
     "traceback": [
      "\u001b[0;31m---------------------------------------------------------------------------\u001b[0m",
      "\u001b[0;31mNameError\u001b[0m                                 Traceback (most recent call last)",
      "Cell \u001b[0;32mIn [2], line 1\u001b[0m\n\u001b[0;32m----> 1\u001b[0m submission_df \u001b[38;5;241m=\u001b[39m \u001b[43mcompetition_y\u001b[49m\u001b[38;5;241m.\u001b[39mcopy()\n\u001b[1;32m      2\u001b[0m \u001b[38;5;28;01mif\u001b[39;00m \u001b[38;5;129;01mnot\u001b[39;00m USE_PREV_CASES:\n\u001b[1;32m      3\u001b[0m     submission_df[\u001b[38;5;124m'\u001b[39m\u001b[38;5;124mtotal_cases\u001b[39m\u001b[38;5;124m'\u001b[39m] \u001b[38;5;241m=\u001b[39m y_competition_pred\n",
      "\u001b[0;31mNameError\u001b[0m: name 'competition_y' is not defined"
     ]
    }
   ],
   "source": [
    "submission_df = competition_y.copy()\n",
    "if not USE_PREV_CASES:\n",
    "    submission_df['total_cases'] = y_competition_pred\n",
    "    submission_df['total_cases'] = submission_df['total_cases'].astype(int)"
   ]
  },
  {
   "cell_type": "code",
   "execution_count": 116,
   "id": "f69fe8fd",
   "metadata": {},
   "outputs": [],
   "source": [
    "sj_pred = submission_df[submission_df['city'] == 'sj']\n",
    "iq_pred = submission_df[submission_df['city'] == 'iq']"
   ]
  },
  {
   "cell_type": "code",
   "execution_count": 117,
   "id": "b115f8fe",
   "metadata": {},
   "outputs": [],
   "source": [
    "sj_pred = sj_pred[\"total_cases\"].to_numpy()\n",
    "iq_pred = iq_pred[\"total_cases\"].to_numpy()"
   ]
  },
  {
   "cell_type": "code",
   "execution_count": 127,
   "id": "58776b77",
   "metadata": {},
   "outputs": [],
   "source": [
    "sj = []\n",
    "for i in sj_pred:\n",
    "    sj.append([i])"
   ]
  },
  {
   "cell_type": "code",
   "execution_count": 125,
   "id": "890cf8ba",
   "metadata": {},
   "outputs": [],
   "source": [
    "iq = []\n",
    "for i in iq_pred:\n",
    "    iq.append([i])"
   ]
  },
  {
   "cell_type": "code",
   "execution_count": 112,
   "id": "19ba7a3f",
   "metadata": {},
   "outputs": [],
   "source": [
    "submission = pd.read_csv('../dengue_fever/data/submission_format.csv',\n",
    "                            index_col=[0, 1, 2])"
   ]
  },
  {
   "cell_type": "code",
   "execution_count": 128,
   "id": "7c0ae43c",
   "metadata": {},
   "outputs": [],
   "source": [
    "submission.total_cases = np.concatenate([sj, iq])\n",
    "submission.to_csv(\"../dengue_fever/data/ak_submission_ARIMA_new.csv\")"
   ]
  },
  {
   "cell_type": "markdown",
   "id": "3cfaaad9",
   "metadata": {},
   "source": [
    "## BONUS"
   ]
  },
  {
   "cell_type": "code",
   "execution_count": null,
   "id": "102ddb83",
   "metadata": {},
   "outputs": [],
   "source": [
    "lookback_train_X = X_prep.copy()\n",
    "lookback_train_y = y_prep\n",
    "\n",
    "lookback_train_X.index  = np.arange(1, len(lookback_train_X) + 1)\n",
    "lookback_train_X['previous_cases'] = lookback_train_y['total_cases']\n",
    "lookback_train_X['previous_cases']= lookback_train_X['previous_cases'].shift(periods=1)\n",
    "lookback_train_X.at[1,'previous_cases']=lookback_train_X['previous_cases'][2]\n",
    "\n",
    "\n",
    "# Model Fitting\n",
    "lookback_model_name = best_model_name\n",
    "max_features = int(len(lookback_train_X.keys()))\n",
    "half_max_features = int(round(0.5*max_features))\n",
    "quarter_max_features = int(round(0.25*max_features))\n",
    "\n",
    "lookback_param_grid = {'n_estimators': [50, 100, 200,300],\n",
    "                 'bootstrap': [False],\n",
    "                 'max_features': [quarter_max_features, half_max_features, max_features],\n",
    "                 'min_samples_leaf': [2,3,4],\n",
    "                 }\n",
    "\n",
    "lookback_grid_search =  GridSearchCV(lookback_model_name(random_state=RANDOM_STATE), lookback_param_grid, cv=CROSS_VAL_FOLDS, scoring='neg_mean_squared_error', return_train_score=True)\n",
    "lookback_grid_search.fit(lookback_train_X, lookback_train_y['total_cases'])\n",
    "\n",
    "lookback_estimator = lookback_grid_search.best_estimator_\n",
    "lookback_params = lookback_grid_search.best_params_"
   ]
  },
  {
   "cell_type": "code",
   "execution_count": null,
   "id": "2547129e",
   "metadata": {},
   "outputs": [],
   "source": [
    "lookback_test_X = final_competition_X_prep.copy()\n",
    "lookback_test_X.index  = np.arange(1, len(lookback_test_X) + 1)\n",
    "\n",
    "lookback_test_X['previous_cases'] = y_competition_pred\n",
    "lookback_test_X['previous_cases']= lookback_test_X['previous_cases'].shift(periods=1)\n",
    "lookback_test_X.at[1,'previous_cases']=lookback_test_X['previous_cases'][2]"
   ]
  },
  {
   "cell_type": "code",
   "execution_count": 52,
   "id": "76563621",
   "metadata": {},
   "outputs": [],
   "source": [
    "lookback_competition_pred, lookback_vs_nolookback_mae = predictions_and_mae(lookback_estimator, lookback_test_X, y_competition_pred)\n"
   ]
  },
  {
   "cell_type": "code",
   "execution_count": null,
   "id": "843a5103",
   "metadata": {},
   "outputs": [],
   "source": []
  }
 ],
 "metadata": {
  "kernelspec": {
   "display_name": "Python 3 (ipykernel)",
   "language": "python",
   "name": "python3"
  },
  "language_info": {
   "codemirror_mode": {
    "name": "ipython",
    "version": 3
   },
   "file_extension": ".py",
   "mimetype": "text/x-python",
   "name": "python",
   "nbconvert_exporter": "python",
   "pygments_lexer": "ipython3",
   "version": "3.10.6"
  },
  "toc": {
   "base_numbering": 1,
   "nav_menu": {},
   "number_sections": true,
   "sideBar": true,
   "skip_h1_title": false,
   "title_cell": "Table of Contents",
   "title_sidebar": "Contents",
   "toc_cell": false,
   "toc_position": {},
   "toc_section_display": true,
   "toc_window_display": false
  }
 },
 "nbformat": 4,
 "nbformat_minor": 5
}
