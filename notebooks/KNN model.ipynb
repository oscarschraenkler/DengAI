{
 "cells": [
  {
   "cell_type": "markdown",
   "id": "215d5fb2",
   "metadata": {},
   "source": [
    "## prepping data"
   ]
  },
  {
   "cell_type": "code",
   "execution_count": 1,
   "id": "7a692b51",
   "metadata": {},
   "outputs": [],
   "source": [
    "import pandas as pd\n",
    "import numpy as np\n",
    "import seaborn as sns\n",
    "import matplotlib.pyplot as plt\n",
    "from scipy.integrate import cumtrapz\n",
    "\n",
    "from sklearn.model_selection import train_test_split, cross_val_score, GridSearchCV, TimeSeriesSplit\n",
    "from sklearn import metrics\n",
    "from sklearn.ensemble import RandomForestRegressor\n",
    "from sklearn.preprocessing import MinMaxScaler\n",
    "\n",
    "import time"
   ]
  },
  {
   "cell_type": "code",
   "execution_count": 3,
   "id": "ccb0052c",
   "metadata": {},
   "outputs": [
    {
     "name": "stdout",
     "output_type": "stream",
     "text": [
      "(1456, 25)\n"
     ]
    }
   ],
   "source": [
    "#train data\n",
    "data = pd.read_csv('../raw_data/dengue_features_train.csv')\n",
    "labels = pd.read_csv('../raw_data/dengue_labels_train.csv')\n",
    "data = data.merge(labels)\n",
    "print(data.shape)"
   ]
  },
  {
   "cell_type": "code",
   "execution_count": 4,
   "id": "0cd03cb4",
   "metadata": {},
   "outputs": [],
   "source": [
    "def reg_metrics(y_train, y_train_pred, y_test, y_test_pred, model='model'):\n",
    "    test_mae = metrics.mean_absolute_error(y_test, y_test_pred, multioutput='raw_values')\n",
    "    train_mae = metrics.mean_absolute_error(y_train, y_train_pred, multioutput='raw_values')\n",
    "    metrics_df = pd.DataFrame(data = zip(test_mae, train_mae),\n",
    "                              columns=['test_mae','train_mae'])\n",
    "    metrics_df.index.names = [model]\n",
    "    return metrics_df"
   ]
  },
  {
   "cell_type": "code",
   "execution_count": 5,
   "id": "271721d8",
   "metadata": {},
   "outputs": [],
   "source": [
    "data_sj = data.iloc[:936,:]\n",
    "data_iq = data.iloc[936:,:]"
   ]
  },
  {
   "cell_type": "code",
   "execution_count": 6,
   "id": "c543aab4",
   "metadata": {},
   "outputs": [],
   "source": [
    "def preprocess(rawfeats,train=True):\n",
    "    \n",
    "    #reset index to prevent issues when merging\n",
    "    reindexed_data = rawfeats.reset_index(drop = True)\n",
    "    \n",
    "    #fill nas with interpolation\n",
    "    feats = reindexed_data.interpolate(method='linear')\n",
    "    \n",
    "    new_columns = pd.DataFrame()\n",
    "    #scale and average total precipitation\n",
    "    precipitation_to_avg = feats.loc[:,['reanalysis_sat_precip_amt_mm','precipitation_amt_mm','station_precip_mm','reanalysis_precip_amt_kg_per_m2']]\n",
    "    scaled_precip = pd.DataFrame(MinMaxScaler().fit_transform(precipitation_to_avg), \n",
    "                                columns=precipitation_to_avg.columns)\n",
    "    new_columns.loc[:,'avg_total_precipitation'] = scaled_precip.mean(axis=1)\n",
    "    \n",
    "    #scale and average temperature\n",
    "    temps_to_avg = feats.loc[:,['reanalysis_air_temp_k','reanalysis_avg_temp_k','station_avg_temp_c']]\n",
    "    scaled_temps = pd.DataFrame(MinMaxScaler().fit_transform(temps_to_avg), \n",
    "                                columns=temps_to_avg.columns)\n",
    "    new_columns.loc[:,'avg_temp'] = scaled_temps.mean(axis=1)\n",
    "    \n",
    "    #scale and average max temperature\n",
    "    max_temps_to_avg = feats.loc[:,['station_max_temp_c','reanalysis_max_air_temp_k']]\n",
    "    scaled_max_temps = pd.DataFrame(MinMaxScaler().fit_transform(max_temps_to_avg), \n",
    "                                columns=max_temps_to_avg.columns)\n",
    "    new_columns.loc[:,'avg_max_temp'] = scaled_max_temps.mean(axis=1)\n",
    "    \n",
    "    #scale and average min temperature\n",
    "    min_temps_to_avg = feats.loc[:,['station_min_temp_c','reanalysis_min_air_temp_k']]\n",
    "    scaled_min_temps = pd.DataFrame(MinMaxScaler().fit_transform(min_temps_to_avg), \n",
    "                                columns=min_temps_to_avg.columns)\n",
    "    new_columns.loc[:,'avg_min_temp'] = scaled_min_temps.mean(axis=1)\n",
    "    \n",
    "    #scale and average diurnal temperature\n",
    "    diurnal_temps_to_avg = feats.loc[:,['station_diur_temp_rng_c','reanalysis_tdtr_k']]\n",
    "    scaled_diurnal_temps = pd.DataFrame(MinMaxScaler().fit_transform(diurnal_temps_to_avg), \n",
    "                                columns=diurnal_temps_to_avg.columns)\n",
    "    new_columns.loc[:,'avg_diurnal_temp'] = scaled_diurnal_temps.mean(axis=1)\n",
    "    \n",
    "    #scale humidity and dew point data\n",
    "    remaining_feats_to_scale = feats.loc[:,['reanalysis_specific_humidity_g_per_kg','reanalysis_relative_humidity_percent','reanalysis_dew_point_temp_k']]\n",
    "    scaled_feats = pd.DataFrame(MinMaxScaler().fit_transform(remaining_feats_to_scale), \n",
    "                                columns=remaining_feats_to_scale.columns)\n",
    "    \n",
    "    df = new_columns.join(scaled_feats)\n",
    "    \n",
    "    #add shifted features, 4 weeks\n",
    "    to_shift = ['avg_max_temp','reanalysis_relative_humidity_percent',\n",
    "       'reanalysis_specific_humidity_g_per_kg','avg_total_precipitation','reanalysis_dew_point_temp_k','avg_min_temp'] \n",
    "    for i in to_shift:\n",
    "        df[i+'_1lag'] = df[i].shift(-1)\n",
    "        df[i+'_2lag'] = df[i].shift(-2)\n",
    "        df[i+'_3lag'] = df[i].shift(-3)\n",
    "        df[i+'_4lag'] = df[i].shift(-4)\n",
    "    df = df.fillna(method='ffill')\n",
    "    \n",
    "    #merge back together\n",
    "\n",
    "    if train:\n",
    "        non_scaled_feats = feats[['ndvi_ne', 'ndvi_nw',\n",
    "           'ndvi_se', 'ndvi_sw','total_cases']]\n",
    "    \n",
    "    else:\n",
    "        non_scaled_feats = feats[['ndvi_ne', 'ndvi_nw',\n",
    "           'ndvi_se', 'ndvi_sw']]\n",
    "    \n",
    "    final_df = df.join(non_scaled_feats)\n",
    "    \n",
    "    return final_df"
   ]
  },
  {
   "cell_type": "code",
   "execution_count": 8,
   "id": "01fcbeb5",
   "metadata": {},
   "outputs": [],
   "source": [
    "iq_data = preprocess(data_iq)\n",
    "sj_data = preprocess(data_sj)"
   ]
  },
  {
   "cell_type": "code",
   "execution_count": 13,
   "id": "b6414786",
   "metadata": {},
   "outputs": [
    {
     "name": "stdout",
     "output_type": "stream",
     "text": [
      "(520, 37) (936, 37)\n"
     ]
    }
   ],
   "source": [
    "print(iq_data.shape,sj_data.shape)"
   ]
  },
  {
   "cell_type": "code",
   "execution_count": 14,
   "id": "1cc63ee2",
   "metadata": {},
   "outputs": [
    {
     "data": {
      "text/plain": [
       "28.352089268755936"
      ]
     },
     "execution_count": 14,
     "metadata": {},
     "output_type": "execute_result"
    }
   ],
   "source": [
    "#Baseline mae to beat for San Juan\n",
    "abs(data_sj['total_cases']-(data_sj['total_cases'].mean())).mean()"
   ]
  },
  {
   "cell_type": "code",
   "execution_count": 15,
   "id": "1b9ed362",
   "metadata": {},
   "outputs": [
    {
     "data": {
      "text/plain": [
       "6.684008875739645"
      ]
     },
     "execution_count": 15,
     "metadata": {},
     "output_type": "execute_result"
    }
   ],
   "source": [
    "#Baseline mae to beat for Iquitos\n",
    "abs(data_iq['total_cases']-(data_iq['total_cases'].mean())).mean()"
   ]
  },
  {
   "cell_type": "markdown",
   "id": "5aa1806a",
   "metadata": {},
   "source": [
    "## Modelling"
   ]
  },
  {
   "cell_type": "code",
   "execution_count": 18,
   "id": "c460428a",
   "metadata": {},
   "outputs": [
    {
     "name": "stdout",
     "output_type": "stream",
     "text": [
      "(390, 36)\n",
      "(130, 36)\n"
     ]
    }
   ],
   "source": [
    "iq_X = iq_data.drop(['total_cases'], axis=1)\n",
    "iq_y = iq_data.total_cases\n",
    "\n",
    "iq_X_train = iq_X.head(390)\n",
    "iq_X_test = iq_X.tail(130)\n",
    "iq_y_train = iq_y.head(390)\n",
    "iq_y_test = iq_y.tail(130)\n",
    "\n",
    "print(iq_X_train.shape)\n",
    "print(iq_X_test.shape)"
   ]
  },
  {
   "cell_type": "code",
   "execution_count": 19,
   "id": "f68975a9",
   "metadata": {},
   "outputs": [
    {
     "name": "stdout",
     "output_type": "stream",
     "text": [
      "(702, 36)\n",
      "(234, 36)\n"
     ]
    }
   ],
   "source": [
    "sj_X = sj_data.drop(['total_cases'], axis=1)\n",
    "sj_y = sj_data.total_cases\n",
    "\n",
    "sj_X_train = sj_X.head(702)\n",
    "sj_X_test = sj_X.tail(234)\n",
    "sj_y_train = sj_y.head(702)\n",
    "sj_y_test = sj_y.tail(234)\n",
    "\n",
    "print(sj_X_train.shape)\n",
    "print(sj_X_test.shape)"
   ]
  },
  {
   "cell_type": "markdown",
   "id": "23a1cc00",
   "metadata": {},
   "source": [
    "### KNN"
   ]
  },
  {
   "cell_type": "code",
   "execution_count": null,
   "id": "5a24ac47",
   "metadata": {},
   "outputs": [],
   "source": []
  }
 ],
 "metadata": {
  "kernelspec": {
   "display_name": "Python 3 (ipykernel)",
   "language": "python",
   "name": "python3"
  },
  "language_info": {
   "codemirror_mode": {
    "name": "ipython",
    "version": 3
   },
   "file_extension": ".py",
   "mimetype": "text/x-python",
   "name": "python",
   "nbconvert_exporter": "python",
   "pygments_lexer": "ipython3",
   "version": "3.10.6"
  },
  "toc": {
   "base_numbering": 1,
   "nav_menu": {},
   "number_sections": true,
   "sideBar": true,
   "skip_h1_title": false,
   "title_cell": "Table of Contents",
   "title_sidebar": "Contents",
   "toc_cell": false,
   "toc_position": {},
   "toc_section_display": true,
   "toc_window_display": false
  }
 },
 "nbformat": 4,
 "nbformat_minor": 5
}
